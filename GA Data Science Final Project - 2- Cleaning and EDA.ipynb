{
 "cells": [
  {
   "cell_type": "markdown",
   "metadata": {
    "deletable": true,
    "editable": true
   },
   "source": [
    "## Read in the GitHub Comments data"
   ]
  },
  {
   "cell_type": "code",
   "execution_count": 3,
   "metadata": {
    "collapsed": false,
    "deletable": true,
    "editable": true
   },
   "outputs": [
    {
     "name": "stderr",
     "output_type": "stream",
     "text": [
      "/Users/jamiew/anaconda/lib/python2.7/site-packages/matplotlib/font_manager.py:273: UserWarning: Matplotlib is building the font cache using fc-list. This may take a moment.\n",
      "  warnings.warn('Matplotlib is building the font cache using fc-list. This may take a moment.')\n"
     ]
    }
   ],
   "source": [
    "%matplotlib inline\n",
    "import os\n",
    "import pandas as pd\n",
    "import numpy as np\n",
    "import matplotlib.pyplot as plt\n",
    "\n",
    "#pd.set_option('display.max_rows', 10)\n",
    "#pd.set_option('display.notebook_repr_html', True)\n",
    "#pd.set_option('display.max_columns', 10)"
   ]
  },
  {
   "cell_type": "code",
   "execution_count": 4,
   "metadata": {
    "collapsed": false,
    "deletable": true,
    "editable": true
   },
   "outputs": [],
   "source": [
    "df = pd.read_csv('issue_comments_jupyter_copy.csv')\n",
    "df['org'] = df['org'].astype('str')\n",
    "df['repo'] = df['repo'].astype('str')\n",
    "df['comments'] = df['comments'].astype('str')\n",
    "df['user'] = df['user'].astype('str')"
   ]
  },
  {
   "cell_type": "markdown",
   "metadata": {
    "deletable": true,
    "editable": true
   },
   "source": [
    "### Initial data exploration"
   ]
  },
  {
   "cell_type": "markdown",
   "metadata": {
    "deletable": true,
    "editable": true
   },
   "source": [
    "#### Display the first five lines of the dataset to the screen"
   ]
  },
  {
   "cell_type": "code",
   "execution_count": 5,
   "metadata": {
    "collapsed": false,
    "deletable": true,
    "editable": true,
    "scrolled": false
   },
   "outputs": [
    {
     "data": {
      "text/html": [
       "<div>\n",
       "<table border=\"1\" class=\"dataframe\">\n",
       "  <thead>\n",
       "    <tr style=\"text-align: right;\">\n",
       "      <th></th>\n",
       "      <th>org</th>\n",
       "      <th>repo</th>\n",
       "      <th>number</th>\n",
       "      <th>issue_date</th>\n",
       "      <th>comment_creation_date</th>\n",
       "      <th>comments</th>\n",
       "      <th>user</th>\n",
       "    </tr>\n",
       "  </thead>\n",
       "  <tbody>\n",
       "    <tr>\n",
       "      <th>0</th>\n",
       "      <td>jupyter</td>\n",
       "      <td>colaboratory</td>\n",
       "      <td>118</td>\n",
       "      <td>2015-07-15 13:09:16</td>\n",
       "      <td>2015-07-15 16:37:03</td>\n",
       "      <td>Thanks !\\n</td>\n",
       "      <td>wernight</td>\n",
       "    </tr>\n",
       "    <tr>\n",
       "      <th>1</th>\n",
       "      <td>jupyter</td>\n",
       "      <td>colaboratory</td>\n",
       "      <td>119</td>\n",
       "      <td>2015-07-23 06:55:39</td>\n",
       "      <td>2015-07-23 06:59:17</td>\n",
       "      <td>Oops. i got it. I have to uninstall ipython3 a...</td>\n",
       "      <td>kakitone</td>\n",
       "    </tr>\n",
       "    <tr>\n",
       "      <th>2</th>\n",
       "      <td>jupyter</td>\n",
       "      <td>colaboratory</td>\n",
       "      <td>121</td>\n",
       "      <td>2016-01-31 15:08:08</td>\n",
       "      <td>2016-03-08 14:07:43</td>\n",
       "      <td>same issue\\n</td>\n",
       "      <td>magdalenat</td>\n",
       "    </tr>\n",
       "    <tr>\n",
       "      <th>3</th>\n",
       "      <td>jupyter</td>\n",
       "      <td>colaboratory</td>\n",
       "      <td>121</td>\n",
       "      <td>2016-01-31 15:08:08</td>\n",
       "      <td>2016-06-23 17:13:57</td>\n",
       "      <td>FWIW a workaround is to share from Google Driv...</td>\n",
       "      <td>magdalenat</td>\n",
       "    </tr>\n",
       "    <tr>\n",
       "      <th>4</th>\n",
       "      <td>jupyter</td>\n",
       "      <td>colaboratory</td>\n",
       "      <td>123</td>\n",
       "      <td>2016-09-18 21:31:02</td>\n",
       "      <td>2016-09-18 21:48:15</td>\n",
       "      <td>At some point, I'll probably hack on a Rethink...</td>\n",
       "      <td>jackiekazil</td>\n",
       "    </tr>\n",
       "  </tbody>\n",
       "</table>\n",
       "</div>"
      ],
      "text/plain": [
       "       org          repo  number           issue_date comment_creation_date  \\\n",
       "0  jupyter  colaboratory     118  2015-07-15 13:09:16   2015-07-15 16:37:03   \n",
       "1  jupyter  colaboratory     119  2015-07-23 06:55:39   2015-07-23 06:59:17   \n",
       "2  jupyter  colaboratory     121  2016-01-31 15:08:08   2016-03-08 14:07:43   \n",
       "3  jupyter  colaboratory     121  2016-01-31 15:08:08   2016-06-23 17:13:57   \n",
       "4  jupyter  colaboratory     123  2016-09-18 21:31:02   2016-09-18 21:48:15   \n",
       "\n",
       "                                            comments         user  \n",
       "0                                         Thanks !\\n     wernight  \n",
       "1  Oops. i got it. I have to uninstall ipython3 a...     kakitone  \n",
       "2                                       same issue\\n   magdalenat  \n",
       "3  FWIW a workaround is to share from Google Driv...   magdalenat  \n",
       "4  At some point, I'll probably hack on a Rethink...  jackiekazil  "
      ]
     },
     "execution_count": 5,
     "metadata": {},
     "output_type": "execute_result"
    }
   ],
   "source": [
    "df.head()"
   ]
  },
  {
   "cell_type": "markdown",
   "metadata": {
    "deletable": true,
    "editable": true
   },
   "source": [
    "The output is a table with 7 columns, various strings, two datetime columns, and what should be an integer column. "
   ]
  },
  {
   "cell_type": "markdown",
   "metadata": {
    "deletable": true,
    "editable": true
   },
   "source": [
    "#### Name of each column"
   ]
  },
  {
   "cell_type": "code",
   "execution_count": 6,
   "metadata": {
    "collapsed": false,
    "deletable": true,
    "editable": true
   },
   "outputs": [
    {
     "name": "stdout",
     "output_type": "stream",
     "text": [
      "Index([u'org', u'repo', u'number', u'issue_date', u'comment_creation_date',\n",
      "       u'comments', u'user'],\n",
      "      dtype='object')\n"
     ]
    }
   ],
   "source": [
    "print df.columns"
   ]
  },
  {
   "cell_type": "markdown",
   "metadata": {
    "deletable": true,
    "editable": true
   },
   "source": [
    "#### Data types for each column"
   ]
  },
  {
   "cell_type": "code",
   "execution_count": 7,
   "metadata": {
    "collapsed": false,
    "deletable": true,
    "editable": true,
    "scrolled": true
   },
   "outputs": [
    {
     "data": {
      "text/plain": [
       "org                      object\n",
       "repo                     object\n",
       "number                    int64\n",
       "issue_date               object\n",
       "comment_creation_date    object\n",
       "comments                 object\n",
       "user                     object\n",
       "dtype: object"
      ]
     },
     "execution_count": 7,
     "metadata": {},
     "output_type": "execute_result"
    }
   ],
   "source": [
    "df.dtypes"
   ]
  },
  {
   "cell_type": "code",
   "execution_count": null,
   "metadata": {
    "collapsed": true,
    "deletable": true,
    "editable": true
   },
   "outputs": [],
   "source": []
  },
  {
   "cell_type": "markdown",
   "metadata": {
    "deletable": true,
    "editable": true
   },
   "source": [
    "#### How many variables (columns)?"
   ]
  },
  {
   "cell_type": "code",
   "execution_count": 8,
   "metadata": {
    "collapsed": false,
    "deletable": true,
    "editable": true
   },
   "outputs": [
    {
     "data": {
      "text/plain": [
       "7"
      ]
     },
     "execution_count": 8,
     "metadata": {},
     "output_type": "execute_result"
    }
   ],
   "source": [
    "len(df.columns)"
   ]
  },
  {
   "cell_type": "markdown",
   "metadata": {
    "deletable": true,
    "editable": true
   },
   "source": [
    "#### Number of observations (rows) in the dataset"
   ]
  },
  {
   "cell_type": "code",
   "execution_count": 9,
   "metadata": {
    "collapsed": false,
    "deletable": true,
    "editable": true
   },
   "outputs": [
    {
     "data": {
      "text/plain": [
       "17656"
      ]
     },
     "execution_count": 9,
     "metadata": {},
     "output_type": "execute_result"
    }
   ],
   "source": [
    "len(df)"
   ]
  },
  {
   "cell_type": "markdown",
   "metadata": {
    "deletable": true,
    "editable": true
   },
   "source": [
    "This does not match the total number of rows in the csv file (18,048)! Let's look around more. "
   ]
  },
  {
   "cell_type": "code",
   "execution_count": 10,
   "metadata": {
    "collapsed": false,
    "deletable": true,
    "editable": true
   },
   "outputs": [
    {
     "data": {
      "text/html": [
       "<div>\n",
       "<table border=\"1\" class=\"dataframe\">\n",
       "  <thead>\n",
       "    <tr style=\"text-align: right;\">\n",
       "      <th></th>\n",
       "      <th>org</th>\n",
       "      <th>repo</th>\n",
       "      <th>number</th>\n",
       "      <th>issue_date</th>\n",
       "      <th>comment_creation_date</th>\n",
       "      <th>comments</th>\n",
       "      <th>user</th>\n",
       "    </tr>\n",
       "  </thead>\n",
       "  <tbody>\n",
       "    <tr>\n",
       "      <th>17651</th>\n",
       "      <td>jupyter</td>\n",
       "      <td>try.jupyter.org</td>\n",
       "      <td>18</td>\n",
       "      <td>2016-10-06 16:06:13</td>\n",
       "      <td>2016-10-07 13:18:54</td>\n",
       "      <td>weird...\\n\\n&lt;img width=\"985\" alt=\"screen shot ...</td>\n",
       "      <td>rgbkrk</td>\n",
       "    </tr>\n",
       "    <tr>\n",
       "      <th>17652</th>\n",
       "      <td>jupyter</td>\n",
       "      <td>try.jupyter.org</td>\n",
       "      <td>18</td>\n",
       "      <td>2016-10-06 16:06:13</td>\n",
       "      <td>2016-10-07 13:19:57</td>\n",
       "      <td>Version 53.0.2785.116 (64-bit)\\n\\nLooks like a...</td>\n",
       "      <td>rgbkrk</td>\n",
       "    </tr>\n",
       "    <tr>\n",
       "      <th>17653</th>\n",
       "      <td>jupyter</td>\n",
       "      <td>try.jupyter.org</td>\n",
       "      <td>18</td>\n",
       "      <td>2016-10-06 16:06:13</td>\n",
       "      <td>2016-10-07 13:21:28</td>\n",
       "      <td>And I've updated to Version 53.0.2785.143 (64-...</td>\n",
       "      <td>rgbkrk</td>\n",
       "    </tr>\n",
       "    <tr>\n",
       "      <th>17654</th>\n",
       "      <td>jupyter</td>\n",
       "      <td>try.jupyter.org</td>\n",
       "      <td>18</td>\n",
       "      <td>2016-10-06 16:06:13</td>\n",
       "      <td>2016-10-07 13:22:50</td>\n",
       "      <td>I've got 54.0.2840.50 (beta channel), so maybe...</td>\n",
       "      <td>rgbkrk</td>\n",
       "    </tr>\n",
       "    <tr>\n",
       "      <th>17655</th>\n",
       "      <td>jupyter</td>\n",
       "      <td>try.jupyter.org</td>\n",
       "      <td>18</td>\n",
       "      <td>2016-10-06 16:06:13</td>\n",
       "      <td>2016-10-07 13:32:10</td>\n",
       "      <td>![screen shot 2016-10-07 at 9 32 00 am](https:...</td>\n",
       "      <td>rgbkrk</td>\n",
       "    </tr>\n",
       "  </tbody>\n",
       "</table>\n",
       "</div>"
      ],
      "text/plain": [
       "           org             repo  number           issue_date  \\\n",
       "17651  jupyter  try.jupyter.org      18  2016-10-06 16:06:13   \n",
       "17652  jupyter  try.jupyter.org      18  2016-10-06 16:06:13   \n",
       "17653  jupyter  try.jupyter.org      18  2016-10-06 16:06:13   \n",
       "17654  jupyter  try.jupyter.org      18  2016-10-06 16:06:13   \n",
       "17655  jupyter  try.jupyter.org      18  2016-10-06 16:06:13   \n",
       "\n",
       "      comment_creation_date  \\\n",
       "17651   2016-10-07 13:18:54   \n",
       "17652   2016-10-07 13:19:57   \n",
       "17653   2016-10-07 13:21:28   \n",
       "17654   2016-10-07 13:22:50   \n",
       "17655   2016-10-07 13:32:10   \n",
       "\n",
       "                                                comments    user  \n",
       "17651  weird...\\n\\n<img width=\"985\" alt=\"screen shot ...  rgbkrk  \n",
       "17652  Version 53.0.2785.116 (64-bit)\\n\\nLooks like a...  rgbkrk  \n",
       "17653  And I've updated to Version 53.0.2785.143 (64-...  rgbkrk  \n",
       "17654  I've got 54.0.2840.50 (beta channel), so maybe...  rgbkrk  \n",
       "17655  ![screen shot 2016-10-07 at 9 32 00 am](https:...  rgbkrk  "
      ]
     },
     "execution_count": 10,
     "metadata": {},
     "output_type": "execute_result"
    }
   ],
   "source": [
    "df.tail()"
   ]
  },
  {
   "cell_type": "markdown",
   "metadata": {
    "deletable": true,
    "editable": true
   },
   "source": [
    "There's nothing unusual with the end of the dataset. Let's look at a random spot like row 17356:"
   ]
  },
  {
   "cell_type": "code",
   "execution_count": 11,
   "metadata": {
    "collapsed": false,
    "deletable": true,
    "editable": true
   },
   "outputs": [
    {
     "data": {
      "text/plain": [
       "org                                                                jupyter\n",
       "repo                                                                 tmpnb\n",
       "number                                                                 196\n",
       "issue_date                                             2015-12-18 01:13:25\n",
       "comment_creation_date                                  2015-12-18 03:38:47\n",
       "comments                 The build will remain broken until we have a `...\n",
       "user                                                          captainsafia\n",
       "Name: 17356, dtype: object"
      ]
     },
     "execution_count": 11,
     "metadata": {},
     "output_type": "execute_result"
    }
   ],
   "source": [
    "df.loc[17356,:]"
   ]
  },
  {
   "cell_type": "markdown",
   "metadata": {
    "deletable": true,
    "editable": true
   },
   "source": [
    "Based on looking at the file in Excel, it looks like there's a problem in the text in https://github.com/jupyter/tmpnb/issues/208 https://github.com/jupyter/tmpnb/issues/235 - both of these issues have code in the issue. Code is formated in GitHub with a `backtick`"
   ]
  },
  {
   "cell_type": "markdown",
   "metadata": {
    "deletable": true,
    "editable": true
   },
   "source": [
    "How many missing values are in the `comments` column of the dataset?"
   ]
  },
  {
   "cell_type": "code",
   "execution_count": 12,
   "metadata": {
    "collapsed": false,
    "deletable": true,
    "editable": true
   },
   "outputs": [
    {
     "name": "stdout",
     "output_type": "stream",
     "text": [
      "0\n"
     ]
    }
   ],
   "source": [
    "print(np.count_nonzero(df[\"comments\"].isnull()))"
   ]
  },
  {
   "cell_type": "markdown",
   "metadata": {
    "deletable": true,
    "editable": true
   },
   "source": [
    "The answer is \"0\" does this mean that Pandas already stripped out all the rows with missing values? Let's look at it another way:"
   ]
  },
  {
   "cell_type": "code",
   "execution_count": 13,
   "metadata": {
    "collapsed": false,
    "deletable": true,
    "editable": true
   },
   "outputs": [
    {
     "data": {
      "text/plain": [
       "org                      0\n",
       "repo                     0\n",
       "number                   0\n",
       "issue_date               0\n",
       "comment_creation_date    0\n",
       "comments                 0\n",
       "user                     0\n",
       "dtype: int64"
      ]
     },
     "execution_count": 13,
     "metadata": {},
     "output_type": "execute_result"
    }
   ],
   "source": [
    "df.isnull().sum()"
   ]
  },
  {
   "cell_type": "markdown",
   "metadata": {
    "deletable": true,
    "editable": true
   },
   "source": [
    "There are no summary statistics to run on this dataset because all but one column has a soon-to-be string datatype.\n",
    "\n",
    "Extract the subset of rows of the dataset where the length of comments is less than 5"
   ]
  },
  {
   "cell_type": "code",
   "execution_count": 14,
   "metadata": {
    "collapsed": false,
    "deletable": true,
    "editable": true
   },
   "outputs": [
    {
     "data": {
      "text/plain": [
       "0                                               Thanks !\\n\n",
       "1        Oops. i got it. I have to uninstall ipython3 a...\n",
       "2                                             same issue\\n\n",
       "3        FWIW a workaround is to share from Google Driv...\n",
       "4        At some point, I'll probably hack on a Rethink...\n",
       "5        Also, if you just want storage (not the realti...\n",
       "6        Was looking for the realtime. :-) \\nTy for the...\n",
       "7        Note that SageMathCloud also lets you collabor...\n",
       "8        Thanks for bringing that up! My head was burie...\n",
       "9        @rgbkrk let me know if you ever want to chat m...\n",
       "10       Note that in addition to using SageMathCloud a...\n",
       "11       http://nbviewer.ipython.org/gist/damianavila/d...\n",
       "12                                                 Cute.\\n\n",
       "13       Here is the sticker that Leah did for NumFOCUS...\n",
       "14       We already have Jupyter stickers. @takluyver i...\n",
       "15       I am talking with Leah and Thomas about this o...\n",
       "16                Yes you should. Pinged you in gitter. \\n\n",
       "17       We also might want to look at setting up our s...\n",
       "18       These are two designs that I have mocked up in...\n",
       "19       I should mention that I told @cameronoelsen th...\n",
       "20       The bottom one is preferable, but I think I'd ...\n",
       "21       I tend to agree with @takluyer. If we use sema...\n",
       "22       > I think I'd still be more likely to pick up ...\n",
       "23       I ordered 600 from a new project.jupyter@gmail...\n",
       "24       I have also created a projectjupyter@gmail.com...\n",
       "25       You mean 6000, right? 600 wouldn't last very l...\n",
       "26       and are they being delivered to the hotel for ...\n",
       "27       @cameronoelsen Why not stick with a standard l...\n",
       "28       @neilpanchal We stuck with the original circul...\n",
       "29                @cameronoelsen cool, cool, cool. :+1: \\n\n",
       "                               ...                        \n",
       "17626    I deployed some new instances with notebook-4....\n",
       "17627    Some configuration must have been lost in the ...\n",
       "17628    Thanks, fperez, for entering this request here...\n",
       "17629    I didn't mean to imply that sympy isn't high v...\n",
       "17630    thanks, It's clear. I fully understand... I al...\n",
       "17631    SymPy should be added to the image on the next...\n",
       "17632    Thanks @minrk! BTW, where is the Dockerfile fo...\n",
       "17633    Our for-inheriting docker images are built fro...\n",
       "17634                                   Perfect, thanks!\\n\n",
       "17635          @fperez this is already an opened issue. \\n\n",
       "17636    Thanks, @Carreau! @rgbkrk, is this an easy fix...\n",
       "17637    The notebook server containers needed to be ch...\n",
       "17638    Hi!\\n\\nI'm noticing this problem with Firefox ...\n",
       "17639    Hi again! Sorry to bug you about this, but I w...\n",
       "17640    @alanhdu sorry for the delay. It should be fix...\n",
       "17641    Seen to work for me now.\\n\\nYou can look at `h...\n",
       "17642    Working today for me using `try.jupyter.org`. ...\n",
       "17643                       Thanks @Carreau & @willingc \\n\n",
       "17644    Disabling Travis for this repo, as it's not ne...\n",
       "17645    Welp, tmp57 doesn't have the right content sec...\n",
       "17646    @rgbkrk did you fix something manually? it see...\n",
       "17647    Nope, haven't changed anything. Only reported ...\n",
       "17648    Is it working for you? Safari and Chrome both ...\n",
       "17649    ![screen shot 2016-10-07 at 9 14 22 am](https:...\n",
       "17650    It does the redirection right, but then when I...\n",
       "17651    weird...\\n\\n<img width=\"985\" alt=\"screen shot ...\n",
       "17652    Version 53.0.2785.116 (64-bit)\\n\\nLooks like a...\n",
       "17653    And I've updated to Version 53.0.2785.143 (64-...\n",
       "17654    I've got 54.0.2840.50 (beta channel), so maybe...\n",
       "17655    ![screen shot 2016-10-07 at 9 32 00 am](https:...\n",
       "Name: comments, dtype: object"
      ]
     },
     "execution_count": 14,
     "metadata": {},
     "output_type": "execute_result"
    }
   ],
   "source": [
    "df.comments"
   ]
  },
  {
   "cell_type": "code",
   "execution_count": 22,
   "metadata": {
    "collapsed": false,
    "deletable": true,
    "editable": true
   },
   "outputs": [],
   "source": [
    "counts_per_repo = df.groupby(['org', 'repo']).count()"
   ]
  },
  {
   "cell_type": "code",
   "execution_count": 23,
   "metadata": {
    "collapsed": false,
    "deletable": true,
    "editable": true
   },
   "outputs": [
    {
     "name": "stdout",
     "output_type": "stream",
     "text": [
      "                            number  issue_date  comment_creation_date  \\\n",
      "org     repo                                                            \n",
      "jupyter colaboratory            11          11                     11   \n",
      "        design                 585         585                    585   \n",
      "        docker-demo-images     306         306                    306   \n",
      "        jupyter-drive           97          97                     97   \n",
      "        jupyter.github.io      613         613                    613   \n",
      "        jupyter_client         928         928                    928   \n",
      "        jupyter_core           265         265                    265   \n",
      "        nature-demo             12          12                     12   \n",
      "        nbcache                  5           5                      5   \n",
      "        nbconvert-examples       7           7                      7   \n",
      "        nbformat               365         365                    365   \n",
      "        nbgrader              1287        1287                   1287   \n",
      "        nbviewer               986         986                    986   \n",
      "        nbviewer-deploy          3           3                      3   \n",
      "        notebook             11676       11676                  11676   \n",
      "        testpath                 9           9                      9   \n",
      "        tmpnb                  387         387                    387   \n",
      "        tmpnb-deploy            50          50                     50   \n",
      "        tmpnb-redirector        17          17                     17   \n",
      "        try.jupyter.org         47          47                     47   \n",
      "\n",
      "                            comments   user  \n",
      "org     repo                                 \n",
      "jupyter colaboratory              11     11  \n",
      "        design                   585    585  \n",
      "        docker-demo-images       306    306  \n",
      "        jupyter-drive             97     97  \n",
      "        jupyter.github.io        613    613  \n",
      "        jupyter_client           928    928  \n",
      "        jupyter_core             265    265  \n",
      "        nature-demo               12     12  \n",
      "        nbcache                    5      5  \n",
      "        nbconvert-examples         7      7  \n",
      "        nbformat                 365    365  \n",
      "        nbgrader                1287   1287  \n",
      "        nbviewer                 986    986  \n",
      "        nbviewer-deploy            3      3  \n",
      "        notebook               11676  11676  \n",
      "        testpath                   9      9  \n",
      "        tmpnb                    387    387  \n",
      "        tmpnb-deploy              50     50  \n",
      "        tmpnb-redirector          17     17  \n",
      "        try.jupyter.org           47     47  \n"
     ]
    }
   ],
   "source": [
    "print counts_per_repo"
   ]
  },
  {
   "cell_type": "code",
   "execution_count": 21,
   "metadata": {
    "collapsed": false,
    "deletable": true,
    "editable": true
   },
   "outputs": [
    {
     "name": "stdout",
     "output_type": "stream",
     "text": [
      "                                     org  number  issue_date  \\\n",
      "user              repo                                         \n",
      "3rd3              notebook             2       2           2   \n",
      "8leggedunicorn    notebook             7       7           7   \n",
      "AC130USpectre     notebook             7       7           7   \n",
      "AFJay             notebook            22      22          22   \n",
      "AGS-Knight        notebook             9       9           9   \n",
      "Achifaifa         notebook            11      11          11   \n",
      "AdityaShirvalkar  notebook             2       2           2   \n",
      "AgazW             notebook             2       2           2   \n",
      "AidanRocke        nbviewer             2       2           2   \n",
      "Akelio-zhang      notebook            10      10          10   \n",
      "AkhilNairAmey     notebook             9       9           9   \n",
      "AlJohri           notebook             2       2           2   \n",
      "Alnilam           notebook             1       1           1   \n",
      "Amasics           notebook             2       2           2   \n",
      "Amerterasu        notebook            20      20          20   \n",
      "Amirulz           notebook             2       2           2   \n",
      "Analect           nbformat             5       5           5   \n",
      "                  notebook             6       6           6   \n",
      "AndreWin          notebook             1       1           1   \n",
      "AndreiCostinescu  notebook             6       6           6   \n",
      "Anne623           jupyter_core        11      11          11   \n",
      "                  notebook            10      10          10   \n",
      "AnotherCodeArtist nbgrader            11      11          11   \n",
      "ArEnSc            notebook             3       3           3   \n",
      "AyushKesar        design               1       1           1   \n",
      "BBischof          notebook             2       2           2   \n",
      "Bhanuprasanna     nbviewer            17      17          17   \n",
      "BigBlueHat        nbformat             1       1           1   \n",
      "BoPeng            notebook             6       6           6   \n",
      "Boussarhane       notebook             7       7           7   \n",
      "...                                  ...     ...         ...   \n",
      "yacchin1205       tmpnb                5       5           5   \n",
      "yarmenti          notebook             2       2           2   \n",
      "yasharz           notebook             1       1           1   \n",
      "yechangyao        nbviewer             5       5           5   \n",
      "yechaochen        notebook             3       3           3   \n",
      "yiannissakk       notebook             1       1           1   \n",
      "yifeim            notebook             5       5           5   \n",
      "ylaizet           notebook             3       3           3   \n",
      "ymost             notebook             3       3           3   \n",
      "yourinoelnelson   notebook            12      12          12   \n",
      "youyno            notebook             1       1           1   \n",
      "yrevar            notebook             3       3           3   \n",
      "ysalmon           jupyter_client       8       8           8   \n",
      "yssource          notebook             2       2           2   \n",
      "yurivict          notebook             6       6           6   \n",
      "yutkin            notebook             5       5           5   \n",
      "yuuuxt            notebook             1       1           1   \n",
      "yuvallanger       notebook             2       2           2   \n",
      "yuvipanda         nbviewer            31      31          31   \n",
      "                  notebook            55      55          55   \n",
      "                  tmpnb               10      10          10   \n",
      "zhoufankai        notebook             4       4           4   \n",
      "zhuzelong         notebook             1       1           1   \n",
      "zischwartz        notebook             8       8           8   \n",
      "                  tmpnb               13      13          13   \n",
      "zkk995            jupyter.github.io    2       2           2   \n",
      "zlqs1985          notebook             3       3           3   \n",
      "zpincus           nbgrader             3       3           3   \n",
      "zunayed           tmpnb                3       3           3   \n",
      "zyzhu2000         notebook             9       9           9   \n",
      "\n",
      "                                     comment_creation_date  comments  \n",
      "user              repo                                                \n",
      "3rd3              notebook                               2         2  \n",
      "8leggedunicorn    notebook                               7         7  \n",
      "AC130USpectre     notebook                               7         7  \n",
      "AFJay             notebook                              22        22  \n",
      "AGS-Knight        notebook                               9         9  \n",
      "Achifaifa         notebook                              11        11  \n",
      "AdityaShirvalkar  notebook                               2         2  \n",
      "AgazW             notebook                               2         2  \n",
      "AidanRocke        nbviewer                               2         2  \n",
      "Akelio-zhang      notebook                              10        10  \n",
      "AkhilNairAmey     notebook                               9         9  \n",
      "AlJohri           notebook                               2         2  \n",
      "Alnilam           notebook                               1         1  \n",
      "Amasics           notebook                               2         2  \n",
      "Amerterasu        notebook                              20        20  \n",
      "Amirulz           notebook                               2         2  \n",
      "Analect           nbformat                               5         5  \n",
      "                  notebook                               6         6  \n",
      "AndreWin          notebook                               1         1  \n",
      "AndreiCostinescu  notebook                               6         6  \n",
      "Anne623           jupyter_core                          11        11  \n",
      "                  notebook                              10        10  \n",
      "AnotherCodeArtist nbgrader                              11        11  \n",
      "ArEnSc            notebook                               3         3  \n",
      "AyushKesar        design                                 1         1  \n",
      "BBischof          notebook                               2         2  \n",
      "Bhanuprasanna     nbviewer                              17        17  \n",
      "BigBlueHat        nbformat                               1         1  \n",
      "BoPeng            notebook                               6         6  \n",
      "Boussarhane       notebook                               7         7  \n",
      "...                                                    ...       ...  \n",
      "yacchin1205       tmpnb                                  5         5  \n",
      "yarmenti          notebook                               2         2  \n",
      "yasharz           notebook                               1         1  \n",
      "yechangyao        nbviewer                               5         5  \n",
      "yechaochen        notebook                               3         3  \n",
      "yiannissakk       notebook                               1         1  \n",
      "yifeim            notebook                               5         5  \n",
      "ylaizet           notebook                               3         3  \n",
      "ymost             notebook                               3         3  \n",
      "yourinoelnelson   notebook                              12        12  \n",
      "youyno            notebook                               1         1  \n",
      "yrevar            notebook                               3         3  \n",
      "ysalmon           jupyter_client                         8         8  \n",
      "yssource          notebook                               2         2  \n",
      "yurivict          notebook                               6         6  \n",
      "yutkin            notebook                               5         5  \n",
      "yuuuxt            notebook                               1         1  \n",
      "yuvallanger       notebook                               2         2  \n",
      "yuvipanda         nbviewer                              31        31  \n",
      "                  notebook                              55        55  \n",
      "                  tmpnb                                 10        10  \n",
      "zhoufankai        notebook                               4         4  \n",
      "zhuzelong         notebook                               1         1  \n",
      "zischwartz        notebook                               8         8  \n",
      "                  tmpnb                                 13        13  \n",
      "zkk995            jupyter.github.io                      2         2  \n",
      "zlqs1985          notebook                               3         3  \n",
      "zpincus           nbgrader                               3         3  \n",
      "zunayed           tmpnb                                  3         3  \n",
      "zyzhu2000         notebook                               9         9  \n",
      "\n",
      "[1319 rows x 5 columns]\n"
     ]
    }
   ],
   "source": [
    "counts_per_user = df.groupby(['user', 'repo']).count()\n",
    "print counts_per_user"
   ]
  },
  {
   "cell_type": "code",
   "execution_count": null,
   "metadata": {
    "collapsed": false,
    "deletable": true,
    "editable": true
   },
   "outputs": [],
   "source": [
    "#import seaborn as sns \n",
    "#sns.scatter(x='user', y='number', data=counts_per_user)"
   ]
  },
  {
   "cell_type": "markdown",
   "metadata": {
    "deletable": true,
    "editable": true
   },
   "source": [
    "### Statistics on strings"
   ]
  },
  {
   "cell_type": "markdown",
   "metadata": {
    "deletable": true,
    "editable": true
   },
   "source": [
    "Descriptive statistics:\n",
    "- Avg comment length\n",
    "- Standard deviation for comment length"
   ]
  },
  {
   "cell_type": "markdown",
   "metadata": {
    "deletable": true,
    "editable": true
   },
   "source": [
    "Correlations: \n",
    "- username vs. comment length\n",
    "- username vs. comment count\n",
    "- repo vs. comment count\n",
    "- repo vs. comment length\n",
    "- counts of comments over time\n",
    "- times of year where specific users comment more or less"
   ]
  },
  {
   "cell_type": "markdown",
   "metadata": {
    "deletable": true,
    "editable": true
   },
   "source": []
  },
  {
   "cell_type": "code",
   "execution_count": null,
   "metadata": {
    "collapsed": true,
    "deletable": true,
    "editable": true
   },
   "outputs": [],
   "source": []
  }
 ],
 "metadata": {
  "kernelspec": {
   "display_name": "Python 2",
   "language": "python",
   "name": "python2"
  },
  "language_info": {
   "codemirror_mode": {
    "name": "ipython",
    "version": 2
   },
   "file_extension": ".py",
   "mimetype": "text/x-python",
   "name": "python",
   "nbconvert_exporter": "python",
   "pygments_lexer": "ipython2",
   "version": "2.7.11"
  }
 },
 "nbformat": 4,
 "nbformat_minor": 0
}
