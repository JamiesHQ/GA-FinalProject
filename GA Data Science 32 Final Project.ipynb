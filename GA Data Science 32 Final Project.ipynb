{
 "cells": [
  {
   "cell_type": "markdown",
   "metadata": {},
   "source": [
    "## Import data from GitHub"
   ]
  },
  {
   "cell_type": "code",
   "execution_count": 2,
   "metadata": {
    "collapsed": false
   },
   "outputs": [],
   "source": [
    "from github import Github\n",
    "import getorg\n",
    "\n",
    "# A file named ghlogin.py, containing my login key in the variable gh_key\n",
    "# Get an API key (for just querying, give it no write permissions) at https://github.com/settings/tokens\n",
    "import ghlogin\n",
    "\n",
    "# You can leave login_or_token blank, but then you only get 60 queries an hour\n",
    "gh = Github(login_or_token=ghlogin.gh_key)"
   ]
  },
  {
   "cell_type": "code",
   "execution_count": 3,
   "metadata": {
    "collapsed": true
   },
   "outputs": [],
   "source": [
    "issues_dict, issues_count = getorg.orgevents.get_org_open_issues(\n",
    "                            gh, \"jupyter\", days_open=180, comments=10, debug=0)"
   ]
  },
  {
   "cell_type": "code",
   "execution_count": 4,
   "metadata": {
    "collapsed": false
   },
   "outputs": [
    {
     "data": {
      "text/plain": [
       "{u'atom-notebook': 2,\n",
       " u'docker-stacks': 3,\n",
       " u'enhancement-proposals': 2,\n",
       " u'governance': 1,\n",
       " u'help': 1,\n",
       " u'jupyter': 3,\n",
       " u'jupyter-drive': 1,\n",
       " u'jupyter.github.io': 3,\n",
       " u'jupyter_client': 2,\n",
       " u'jupyter_console': 1,\n",
       " u'jupyter_core': 1,\n",
       " u'nbconvert': 9,\n",
       " u'nbgrader': 1,\n",
       " u'nbviewer': 5,\n",
       " u'notebook': 17,\n",
       " u'ops-handbook': 1,\n",
       " u'qtconsole': 1,\n",
       " u'tmpnb': 2}"
      ]
     },
     "execution_count": 4,
     "metadata": {},
     "output_type": "execute_result"
    }
   ],
   "source": [
    "issues_count"
   ]
  },
  {
   "cell_type": "code",
   "execution_count": null,
   "metadata": {
    "collapsed": true
   },
   "outputs": [],
   "source": []
  }
 ],
 "metadata": {
  "kernelspec": {
   "display_name": "Python 2",
   "language": "python",
   "name": "python2"
  },
  "language_info": {
   "codemirror_mode": {
    "name": "ipython",
    "version": 2
   },
   "file_extension": ".py",
   "mimetype": "text/x-python",
   "name": "python",
   "nbconvert_exporter": "python",
   "pygments_lexer": "ipython2",
   "version": "2.7.11"
  }
 },
 "nbformat": 4,
 "nbformat_minor": 0
}
