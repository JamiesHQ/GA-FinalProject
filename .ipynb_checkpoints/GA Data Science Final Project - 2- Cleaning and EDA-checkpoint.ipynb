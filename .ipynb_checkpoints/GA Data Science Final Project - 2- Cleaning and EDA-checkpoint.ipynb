{
 "cells": [
  {
   "cell_type": "markdown",
   "metadata": {},
   "source": [
    "## Read in the GitHub Comments data"
   ]
  },
  {
   "cell_type": "code",
   "execution_count": 61,
   "metadata": {
    "collapsed": false
   },
   "outputs": [],
   "source": [
    "%matplotlib inline\n",
    "import os\n",
    "import pandas as pd\n",
    "import numpy as np\n",
    "import matplotlib.pyplot as plt\n",
    "\n",
    "#pd.set_option('display.max_rows', 10)\n",
    "#pd.set_option('display.notebook_repr_html', True)\n",
    "#pd.set_option('display.max_columns', 10)"
   ]
  },
  {
   "cell_type": "code",
   "execution_count": 62,
   "metadata": {
    "collapsed": false
   },
   "outputs": [],
   "source": [
    "df = pd.read_csv('issue_comments_jupyter_copy.csv')\n",
    "df['org'] = df['org'].astype('str')\n",
    "df['repo'] = df['repo'].astype('str')\n",
    "df['comments'] = df['comments'].astype('str')\n",
    "df['user'] = df['user'].astype('str')"
   ]
  },
  {
   "cell_type": "markdown",
   "metadata": {},
   "source": [
    "### Initial data exploration"
   ]
  },
  {
   "cell_type": "markdown",
   "metadata": {},
   "source": [
    "#### Display the first five lines of the dataset to the screen"
   ]
  },
  {
   "cell_type": "code",
   "execution_count": 63,
   "metadata": {
    "collapsed": false,
    "scrolled": false
   },
   "outputs": [
    {
     "data": {
      "text/html": [
       "<div>\n",
       "<table border=\"1\" class=\"dataframe\">\n",
       "  <thead>\n",
       "    <tr style=\"text-align: right;\">\n",
       "      <th></th>\n",
       "      <th>org</th>\n",
       "      <th>repo</th>\n",
       "      <th>number</th>\n",
       "      <th>issue_date</th>\n",
       "      <th>comment_creation_date</th>\n",
       "      <th>comments</th>\n",
       "      <th>user</th>\n",
       "    </tr>\n",
       "  </thead>\n",
       "  <tbody>\n",
       "    <tr>\n",
       "      <th>0</th>\n",
       "      <td>jupyter</td>\n",
       "      <td>colaboratory</td>\n",
       "      <td>118</td>\n",
       "      <td>2015-07-15 13:09:16</td>\n",
       "      <td>2015-07-15 16:37:03</td>\n",
       "      <td>Thanks !\\n</td>\n",
       "      <td>wernight</td>\n",
       "    </tr>\n",
       "    <tr>\n",
       "      <th>1</th>\n",
       "      <td>jupyter</td>\n",
       "      <td>colaboratory</td>\n",
       "      <td>119</td>\n",
       "      <td>2015-07-23 06:55:39</td>\n",
       "      <td>2015-07-23 06:59:17</td>\n",
       "      <td>Oops. i got it. I have to uninstall ipython3 a...</td>\n",
       "      <td>kakitone</td>\n",
       "    </tr>\n",
       "    <tr>\n",
       "      <th>2</th>\n",
       "      <td>jupyter</td>\n",
       "      <td>colaboratory</td>\n",
       "      <td>121</td>\n",
       "      <td>2016-01-31 15:08:08</td>\n",
       "      <td>2016-03-08 14:07:43</td>\n",
       "      <td>same issue\\n</td>\n",
       "      <td>magdalenat</td>\n",
       "    </tr>\n",
       "    <tr>\n",
       "      <th>3</th>\n",
       "      <td>jupyter</td>\n",
       "      <td>colaboratory</td>\n",
       "      <td>121</td>\n",
       "      <td>2016-01-31 15:08:08</td>\n",
       "      <td>2016-06-23 17:13:57</td>\n",
       "      <td>FWIW a workaround is to share from Google Driv...</td>\n",
       "      <td>magdalenat</td>\n",
       "    </tr>\n",
       "    <tr>\n",
       "      <th>4</th>\n",
       "      <td>jupyter</td>\n",
       "      <td>colaboratory</td>\n",
       "      <td>123</td>\n",
       "      <td>2016-09-18 21:31:02</td>\n",
       "      <td>2016-09-18 21:48:15</td>\n",
       "      <td>At some point, I'll probably hack on a Rethink...</td>\n",
       "      <td>jackiekazil</td>\n",
       "    </tr>\n",
       "  </tbody>\n",
       "</table>\n",
       "</div>"
      ],
      "text/plain": [
       "       org          repo  number           issue_date comment_creation_date  \\\n",
       "0  jupyter  colaboratory     118  2015-07-15 13:09:16   2015-07-15 16:37:03   \n",
       "1  jupyter  colaboratory     119  2015-07-23 06:55:39   2015-07-23 06:59:17   \n",
       "2  jupyter  colaboratory     121  2016-01-31 15:08:08   2016-03-08 14:07:43   \n",
       "3  jupyter  colaboratory     121  2016-01-31 15:08:08   2016-06-23 17:13:57   \n",
       "4  jupyter  colaboratory     123  2016-09-18 21:31:02   2016-09-18 21:48:15   \n",
       "\n",
       "                                            comments         user  \n",
       "0                                         Thanks !\\n     wernight  \n",
       "1  Oops. i got it. I have to uninstall ipython3 a...     kakitone  \n",
       "2                                       same issue\\n   magdalenat  \n",
       "3  FWIW a workaround is to share from Google Driv...   magdalenat  \n",
       "4  At some point, I'll probably hack on a Rethink...  jackiekazil  "
      ]
     },
     "execution_count": 63,
     "metadata": {},
     "output_type": "execute_result"
    }
   ],
   "source": [
    "df.head()"
   ]
  },
  {
   "cell_type": "markdown",
   "metadata": {},
   "source": [
    "The output is a table with 7 columns, various strings, two datetime columns, and what should be an integer column. "
   ]
  },
  {
   "cell_type": "markdown",
   "metadata": {},
   "source": [
    "#### Name of each column"
   ]
  },
  {
   "cell_type": "code",
   "execution_count": 64,
   "metadata": {
    "collapsed": false
   },
   "outputs": [
    {
     "name": "stdout",
     "output_type": "stream",
     "text": [
      "Index([u'org', u'repo', u'number', u'issue_date', u'comment_creation_date',\n",
      "       u'comments', u'user'],\n",
      "      dtype='object')\n"
     ]
    }
   ],
   "source": [
    "print df.columns"
   ]
  },
  {
   "cell_type": "markdown",
   "metadata": {},
   "source": [
    "#### Data types for each column"
   ]
  },
  {
   "cell_type": "code",
   "execution_count": 65,
   "metadata": {
    "collapsed": false,
    "scrolled": true
   },
   "outputs": [
    {
     "data": {
      "text/plain": [
       "org                      object\n",
       "repo                     object\n",
       "number                    int64\n",
       "issue_date               object\n",
       "comment_creation_date    object\n",
       "comments                 object\n",
       "user                     object\n",
       "dtype: object"
      ]
     },
     "execution_count": 65,
     "metadata": {},
     "output_type": "execute_result"
    }
   ],
   "source": [
    "df.dtypes"
   ]
  },
  {
   "cell_type": "code",
   "execution_count": null,
   "metadata": {
    "collapsed": true
   },
   "outputs": [],
   "source": []
  },
  {
   "cell_type": "markdown",
   "metadata": {},
   "source": [
    "#### How many variables (columns)?"
   ]
  },
  {
   "cell_type": "code",
   "execution_count": 66,
   "metadata": {
    "collapsed": false
   },
   "outputs": [
    {
     "data": {
      "text/plain": [
       "7"
      ]
     },
     "execution_count": 66,
     "metadata": {},
     "output_type": "execute_result"
    }
   ],
   "source": [
    "len(df.columns)"
   ]
  },
  {
   "cell_type": "markdown",
   "metadata": {},
   "source": [
    "#### Number of observations (rows) in the dataset"
   ]
  },
  {
   "cell_type": "code",
   "execution_count": 67,
   "metadata": {
    "collapsed": false
   },
   "outputs": [
    {
     "data": {
      "text/plain": [
       "17656"
      ]
     },
     "execution_count": 67,
     "metadata": {},
     "output_type": "execute_result"
    }
   ],
   "source": [
    "len(df)"
   ]
  },
  {
   "cell_type": "markdown",
   "metadata": {},
   "source": [
    "This does not match the total number of rows in the csv file (18,048)! Let's look around more. "
   ]
  },
  {
   "cell_type": "code",
   "execution_count": 68,
   "metadata": {
    "collapsed": false
   },
   "outputs": [
    {
     "data": {
      "text/html": [
       "<div>\n",
       "<table border=\"1\" class=\"dataframe\">\n",
       "  <thead>\n",
       "    <tr style=\"text-align: right;\">\n",
       "      <th></th>\n",
       "      <th>org</th>\n",
       "      <th>repo</th>\n",
       "      <th>number</th>\n",
       "      <th>issue_date</th>\n",
       "      <th>comment_creation_date</th>\n",
       "      <th>comments</th>\n",
       "      <th>user</th>\n",
       "    </tr>\n",
       "  </thead>\n",
       "  <tbody>\n",
       "    <tr>\n",
       "      <th>17651</th>\n",
       "      <td>jupyter</td>\n",
       "      <td>try.jupyter.org</td>\n",
       "      <td>18</td>\n",
       "      <td>2016-10-06 16:06:13</td>\n",
       "      <td>2016-10-07 13:18:54</td>\n",
       "      <td>weird...\\n\\n&lt;img width=\"985\" alt=\"screen shot ...</td>\n",
       "      <td>rgbkrk</td>\n",
       "    </tr>\n",
       "    <tr>\n",
       "      <th>17652</th>\n",
       "      <td>jupyter</td>\n",
       "      <td>try.jupyter.org</td>\n",
       "      <td>18</td>\n",
       "      <td>2016-10-06 16:06:13</td>\n",
       "      <td>2016-10-07 13:19:57</td>\n",
       "      <td>Version 53.0.2785.116 (64-bit)\\n\\nLooks like a...</td>\n",
       "      <td>rgbkrk</td>\n",
       "    </tr>\n",
       "    <tr>\n",
       "      <th>17653</th>\n",
       "      <td>jupyter</td>\n",
       "      <td>try.jupyter.org</td>\n",
       "      <td>18</td>\n",
       "      <td>2016-10-06 16:06:13</td>\n",
       "      <td>2016-10-07 13:21:28</td>\n",
       "      <td>And I've updated to Version 53.0.2785.143 (64-...</td>\n",
       "      <td>rgbkrk</td>\n",
       "    </tr>\n",
       "    <tr>\n",
       "      <th>17654</th>\n",
       "      <td>jupyter</td>\n",
       "      <td>try.jupyter.org</td>\n",
       "      <td>18</td>\n",
       "      <td>2016-10-06 16:06:13</td>\n",
       "      <td>2016-10-07 13:22:50</td>\n",
       "      <td>I've got 54.0.2840.50 (beta channel), so maybe...</td>\n",
       "      <td>rgbkrk</td>\n",
       "    </tr>\n",
       "    <tr>\n",
       "      <th>17655</th>\n",
       "      <td>jupyter</td>\n",
       "      <td>try.jupyter.org</td>\n",
       "      <td>18</td>\n",
       "      <td>2016-10-06 16:06:13</td>\n",
       "      <td>2016-10-07 13:32:10</td>\n",
       "      <td>![screen shot 2016-10-07 at 9 32 00 am](https:...</td>\n",
       "      <td>rgbkrk</td>\n",
       "    </tr>\n",
       "  </tbody>\n",
       "</table>\n",
       "</div>"
      ],
      "text/plain": [
       "           org             repo  number           issue_date  \\\n",
       "17651  jupyter  try.jupyter.org      18  2016-10-06 16:06:13   \n",
       "17652  jupyter  try.jupyter.org      18  2016-10-06 16:06:13   \n",
       "17653  jupyter  try.jupyter.org      18  2016-10-06 16:06:13   \n",
       "17654  jupyter  try.jupyter.org      18  2016-10-06 16:06:13   \n",
       "17655  jupyter  try.jupyter.org      18  2016-10-06 16:06:13   \n",
       "\n",
       "      comment_creation_date  \\\n",
       "17651   2016-10-07 13:18:54   \n",
       "17652   2016-10-07 13:19:57   \n",
       "17653   2016-10-07 13:21:28   \n",
       "17654   2016-10-07 13:22:50   \n",
       "17655   2016-10-07 13:32:10   \n",
       "\n",
       "                                                comments    user  \n",
       "17651  weird...\\n\\n<img width=\"985\" alt=\"screen shot ...  rgbkrk  \n",
       "17652  Version 53.0.2785.116 (64-bit)\\n\\nLooks like a...  rgbkrk  \n",
       "17653  And I've updated to Version 53.0.2785.143 (64-...  rgbkrk  \n",
       "17654  I've got 54.0.2840.50 (beta channel), so maybe...  rgbkrk  \n",
       "17655  ![screen shot 2016-10-07 at 9 32 00 am](https:...  rgbkrk  "
      ]
     },
     "execution_count": 68,
     "metadata": {},
     "output_type": "execute_result"
    }
   ],
   "source": [
    "df.tail()"
   ]
  },
  {
   "cell_type": "markdown",
   "metadata": {},
   "source": [
    "There's nothing unusual with the end of the dataset. Let's look at a random spot like row 17356:"
   ]
  },
  {
   "cell_type": "code",
   "execution_count": 69,
   "metadata": {
    "collapsed": false
   },
   "outputs": [
    {
     "data": {
      "text/plain": [
       "org                                                                jupyter\n",
       "repo                                                                 tmpnb\n",
       "number                                                                 196\n",
       "issue_date                                             2015-12-18 01:13:25\n",
       "comment_creation_date                                  2015-12-18 03:38:47\n",
       "comments                 The build will remain broken until we have a `...\n",
       "user                                                          captainsafia\n",
       "Name: 17356, dtype: object"
      ]
     },
     "execution_count": 69,
     "metadata": {},
     "output_type": "execute_result"
    }
   ],
   "source": [
    "df.loc[17356,:]"
   ]
  },
  {
   "cell_type": "markdown",
   "metadata": {},
   "source": [
    "Based on looking at the file in Excel, it looks like there's a problem in the text in https://github.com/jupyter/tmpnb/issues/208 https://github.com/jupyter/tmpnb/issues/235 - both of these issues have code in the issue. Code is formated in GitHub with a `backtick`"
   ]
  },
  {
   "cell_type": "markdown",
   "metadata": {},
   "source": [
    "How many missing values are in the `comments` column of the dataset?"
   ]
  },
  {
   "cell_type": "code",
   "execution_count": 70,
   "metadata": {
    "collapsed": false
   },
   "outputs": [
    {
     "name": "stdout",
     "output_type": "stream",
     "text": [
      "0\n"
     ]
    }
   ],
   "source": [
    "print(np.count_nonzero(df[\"comments\"].isnull()))"
   ]
  },
  {
   "cell_type": "markdown",
   "metadata": {},
   "source": [
    "The answer is \"0\" does this mean that Pandas already stripped out all the rows with missing values? Let's look at it another way:"
   ]
  },
  {
   "cell_type": "code",
   "execution_count": 89,
   "metadata": {
    "collapsed": false
   },
   "outputs": [
    {
     "data": {
      "text/plain": [
       "org                      0\n",
       "repo                     0\n",
       "number                   0\n",
       "issue_date               0\n",
       "comment_creation_date    0\n",
       "comments                 0\n",
       "user                     0\n",
       "dtype: int64"
      ]
     },
     "execution_count": 89,
     "metadata": {},
     "output_type": "execute_result"
    }
   ],
   "source": [
    "df.isnull().sum()"
   ]
  },
  {
   "cell_type": "markdown",
   "metadata": {},
   "source": [
    "There are no summary statistics to run on this dataset because all but one column has a soon-to-be string datatype.\n",
    "\n",
    "Extract the subset of rows of the dataset where the length of comments is less than 5"
   ]
  },
  {
   "cell_type": "code",
   "execution_count": 71,
   "metadata": {
    "collapsed": false
   },
   "outputs": [
    {
     "data": {
      "text/plain": [
       "0                                               Thanks !\\n\n",
       "1        Oops. i got it. I have to uninstall ipython3 a...\n",
       "2                                             same issue\\n\n",
       "3        FWIW a workaround is to share from Google Driv...\n",
       "4        At some point, I'll probably hack on a Rethink...\n",
       "                               ...                        \n",
       "17651    weird...\\n\\n<img width=\"985\" alt=\"screen shot ...\n",
       "17652    Version 53.0.2785.116 (64-bit)\\n\\nLooks like a...\n",
       "17653    And I've updated to Version 53.0.2785.143 (64-...\n",
       "17654    I've got 54.0.2840.50 (beta channel), so maybe...\n",
       "17655    ![screen shot 2016-10-07 at 9 32 00 am](https:...\n",
       "Name: comments, dtype: object"
      ]
     },
     "execution_count": 71,
     "metadata": {},
     "output_type": "execute_result"
    }
   ],
   "source": [
    "df.comments"
   ]
  },
  {
   "cell_type": "code",
   "execution_count": 72,
   "metadata": {
    "collapsed": false
   },
   "outputs": [],
   "source": [
    "counts_per_repo = df.groupby(['org', 'repo']).sum()"
   ]
  },
  {
   "cell_type": "code",
   "execution_count": 73,
   "metadata": {
    "collapsed": false
   },
   "outputs": [
    {
     "name": "stdout",
     "output_type": "stream",
     "text": [
      "                            number\n",
      "org     repo                      \n",
      "jupyter colaboratory          1340\n",
      "        design               12031\n",
      "        docker-demo-images   17599\n",
      "        jupyter-drive        11532\n",
      "        jupyter.github.io    49957\n",
      "...                            ...\n",
      "        testpath                33\n",
      "        tmpnb                76200\n",
      "        tmpnb-deploy          1101\n",
      "        tmpnb-redirector       131\n",
      "        try.jupyter.org        621\n",
      "\n",
      "[20 rows x 1 columns]\n"
     ]
    }
   ],
   "source": [
    "print counts_per_repo"
   ]
  },
  {
   "cell_type": "code",
   "execution_count": 80,
   "metadata": {
    "collapsed": false
   },
   "outputs": [
    {
     "name": "stdout",
     "output_type": "stream",
     "text": [
      "                                  number\n",
      "user           repo                     \n",
      "3rd3           notebook             4494\n",
      "8leggedunicorn notebook             3766\n",
      "AC130USpectre  notebook            12677\n",
      "AFJay          notebook             2618\n",
      "AGS-Knight     notebook             9538\n",
      "...                                  ...\n",
      "zkk995         jupyter.github.io     176\n",
      "zlqs1985       notebook             5304\n",
      "zpincus        nbgrader             1707\n",
      "zunayed        tmpnb                 753\n",
      "zyzhu2000      notebook             9648\n",
      "\n",
      "[1319 rows x 1 columns]\n"
     ]
    }
   ],
   "source": [
    "counts_per_user = df.groupby(['user', 'repo']).sum()\n",
    "print counts_per_user"
   ]
  },
  {
   "cell_type": "code",
   "execution_count": 87,
   "metadata": {
    "collapsed": false
   },
   "outputs": [
    {
     "ename": "AttributeError",
     "evalue": "'module' object has no attribute 'scatter'",
     "output_type": "error",
     "traceback": [
      "\u001b[0;31m---------------------------------------------------------------------------\u001b[0m",
      "\u001b[0;31mAttributeError\u001b[0m                            Traceback (most recent call last)",
      "\u001b[0;32m<ipython-input-87-8fdd06c7d4a1>\u001b[0m in \u001b[0;36m<module>\u001b[0;34m()\u001b[0m\n\u001b[1;32m      1\u001b[0m \u001b[0;32mimport\u001b[0m \u001b[0mseaborn\u001b[0m \u001b[0;32mas\u001b[0m \u001b[0msns\u001b[0m\u001b[0;34m\u001b[0m\u001b[0m\n\u001b[0;32m----> 2\u001b[0;31m \u001b[0msns\u001b[0m\u001b[0;34m.\u001b[0m\u001b[0mscatter\u001b[0m\u001b[0;34m(\u001b[0m\u001b[0mx\u001b[0m\u001b[0;34m=\u001b[0m\u001b[0;34m'user'\u001b[0m\u001b[0;34m,\u001b[0m \u001b[0my\u001b[0m\u001b[0;34m=\u001b[0m\u001b[0;34m'number'\u001b[0m\u001b[0;34m,\u001b[0m \u001b[0mdata\u001b[0m\u001b[0;34m=\u001b[0m\u001b[0mcounts_per_user\u001b[0m\u001b[0;34m)\u001b[0m\u001b[0;34m\u001b[0m\u001b[0m\n\u001b[0m",
      "\u001b[0;31mAttributeError\u001b[0m: 'module' object has no attribute 'scatter'"
     ]
    }
   ],
   "source": [
    "import seaborn as sns \n",
    "sns.scatter(x='user', y='number', data=counts_per_user)"
   ]
  },
  {
   "cell_type": "markdown",
   "metadata": {},
   "source": [
    "### Statistics on strings"
   ]
  },
  {
   "cell_type": "markdown",
   "metadata": {},
   "source": [
    "Descriptive statistics:\n",
    "- Avg comment length\n",
    "- Standard deviation for comment length"
   ]
  },
  {
   "cell_type": "markdown",
   "metadata": {},
   "source": [
    "Correlations: \n",
    "- username vs. comment length\n",
    "- username vs. comment count\n",
    "- repo vs. comment count\n",
    "- repo vs. comment length\n",
    "- counts of comments over time\n",
    "- times of year where specific users comment more or less"
   ]
  },
  {
   "cell_type": "markdown",
   "metadata": {},
   "source": []
  },
  {
   "cell_type": "code",
   "execution_count": null,
   "metadata": {
    "collapsed": true
   },
   "outputs": [],
   "source": []
  }
 ],
 "metadata": {
  "kernelspec": {
   "display_name": "Python 2",
   "language": "python",
   "name": "python2"
  },
  "language_info": {
   "codemirror_mode": {
    "name": "ipython",
    "version": 2
   },
   "file_extension": ".py",
   "mimetype": "text/x-python",
   "name": "python",
   "nbconvert_exporter": "python",
   "pygments_lexer": "ipython2",
   "version": "2.7.11"
  }
 },
 "nbformat": 4,
 "nbformat_minor": 0
}
