{
 "cells": [
  {
   "cell_type": "code",
   "execution_count": 80,
   "metadata": {
    "collapsed": false
   },
   "outputs": [],
   "source": [
    "import pandas as pd\n",
    "import datetime\n",
    "from github import Github\n",
    "\n",
    "g = Github(\"jamieshq\", \"1ca9cfcf3a0f1922b95c582ff5fe5273d4c2a9a6\")\n",
    "cutoff = datetime.datetime(2015, 3, 30, 11, 38, 5, 291165)"
   ]
  },
  {
   "cell_type": "code",
   "execution_count": 81,
   "metadata": {
    "collapsed": true
   },
   "outputs": [],
   "source": [
    "def get_prs(org, repo):\n",
    "    prs = []\n",
    "    print(\"Getting PRs for {}/{}\".format(org.login, repo.name))\n",
    "    for pr in repo.get_pulls(state=\"all\"):\n",
    "        if pr.created_at < cutoff:\n",
    "            continue\n",
    "        prs.append({\n",
    "            'date': pr.created_at,\n",
    "            'user': pr.user.login,\n",
    "            'number': pr.number,\n",
    "            'org': org.login,\n",
    "            'repo': repo.name,\n",
    "            'is_merged': pr.is_merged(),\n",
    "            'state': pr.state\n",
    "        })\n",
    "\n",
    "    return prs"
   ]
  },
  {
   "cell_type": "code",
   "execution_count": 82,
   "metadata": {
    "collapsed": true
   },
   "outputs": [],
   "source": [
    "def get_pr_comments(org, repo):\n",
    "    comments = []\n",
    "    print(\"Getting PR comments for {}/{}\".format(org.login, repo.name))\n",
    "    for pr in repo.get_pulls(state=\"all\"):\n",
    "        if pr.created_at < cutoff:\n",
    "            continue\n",
    "        for comment in pr.get_comments():\n",
    "            comments.append({\n",
    "                'date': comment.created_at,\n",
    "                'user': comment.user.login,\n",
    "                'number': pr.number,\n",
    "                'org': org.login,\n",
    "                'repo': repo.name\n",
    "            })\n",
    "    return comments"
   ]
  },
  {
   "cell_type": "code",
   "execution_count": 83,
   "metadata": {
    "collapsed": false
   },
   "outputs": [],
   "source": [
    "def get_issues(org, repo):\n",
    "    issues = []\n",
    "    print(\"Getting issues for {}/{}\".format(org.login, repo.name))\n",
    "    for issue in repo.get_issues(state=\"all\"):\n",
    "        if issue.created_at < cutoff:\n",
    "            continue\n",
    "        issues.append({\n",
    "            'date': issue.created_at,\n",
    "            'user': issue.user.login,\n",
    "            'number': issue.number,\n",
    "            'org': org.login,\n",
    "            'repo': repo.name,\n",
    "            'state': issue.state\n",
    "        })\n",
    "            \n",
    "    return issues"
   ]
  },
  {
   "cell_type": "code",
   "execution_count": 84,
   "metadata": {
    "collapsed": true
   },
   "outputs": [],
   "source": [
    "\n",
    "def get_issue_comments(org, repo):\n",
    "    comments = []\n",
    "    print(\"Getting issue comments for {}/{}\".format(org.login, repo.name))\n",
    "    for issue in repo.get_issues(state=\"all\"):\n",
    "        if issue.created_at < cutoff:\n",
    "            continue\n",
    "        for comment in issue.get_comments():\n",
    "            \n",
    "            comments.append({\n",
    "                'issue_date': issue.created_at,\n",
    "                'user': issue.user.login,\n",
    "                'number': issue.number,\n",
    "                'org': org.login,\n",
    "                'repo': repo.name,\n",
    "                'comments': comment.body,\n",
    "                'comment_creation_date' : comment.created_at\n",
    "                    \n",
    "            })\n",
    "        \n",
    "    return comments"
   ]
  },
  {
   "cell_type": "code",
   "execution_count": 85,
   "metadata": {
    "collapsed": false
   },
   "outputs": [
    {
     "name": "stdout",
     "output_type": "stream",
     "text": [
      "Getting issue comments for jupyterlab/services\n",
      "Getting issue comments for jupyterlab/jupyterlab\n",
      "Getting issue comments for jupyterlab/extension-builder\n",
      "Getting issue comments for jupyterlab/extension-cookiecutter-js\n",
      "Getting issue comments for jupyterlab/extension-cookiecutter-ts\n",
      "Getting issue comments for jupyterlab/jupyterlab_geojson\n",
      "Getting issue comments for jupyterlab/mimerender-cookiecutter\n",
      "Getting issue comments for jupyterlab/jupyterlab_json\n",
      "Getting issue comments for jupyterhub/jupyterhub\n",
      "Getting issue comments for jupyterhub/configurable-http-proxy\n",
      "Getting issue comments for jupyterhub/oauthenticator\n",
      "Getting issue comments for jupyterhub/dockerspawner\n",
      "Getting issue comments for jupyterhub/sudospawner\n",
      "Getting issue comments for jupyterhub/batchspawner\n",
      "Getting issue comments for jupyterhub/kubespawner\n",
      "Getting issue comments for jupyterhub/ldapauthenticator\n",
      "Getting issue comments for jupyterhub/jupyterhub-deploy-docker\n",
      "Getting issue comments for jupyterhub/jupyterhub-deploy-teaching\n",
      "Getting issue comments for jupyterhub/jupyterhub-carina\n",
      "Getting issue comments for jupyterhub/jupyterhub-tutorial\n",
      "Getting issue comments for jupyterhub/jupyterhub-deploy-hpc\n",
      "Getting issue comments for jupyterhub/systemdspawner\n",
      "Getting issue comments for jupyterhub/wrapspawner\n",
      "Getting issue comments for jupyterhub/jupyterhub-labextension\n",
      "Getting issue comments for jupyterhub/nbserverproxy\n",
      "Getting issue comments for jupyterhub/jupyterhub-example-kerberos\n",
      "Getting issue comments for jupyterhub/hubshare\n",
      "Getting issue comments for jupyterhub/nbrsessionproxy\n",
      "Getting issue comments for jupyter-widgets/ipywidgets\n"
     ]
    },
    {
     "ename": "GithubException",
     "evalue": "403 {u'documentation_url': u'https://developer.github.com/v3/#rate-limiting', u'message': u'API rate limit exceeded for JamiesHQ.'}",
     "output_type": "error",
     "traceback": [
      "\u001b[0;31m---------------------------------------------------------------------------\u001b[0m",
      "\u001b[0;31mGithubException\u001b[0m                           Traceback (most recent call last)",
      "\u001b[0;32m<ipython-input-85-dfd1621896a6>\u001b[0m in \u001b[0;36m<module>\u001b[0;34m()\u001b[0m\n\u001b[1;32m     12\u001b[0m         \u001b[0;31m#pr_comments.extend(get_pr_comments(org, repo))\u001b[0m\u001b[0;34m\u001b[0m\u001b[0;34m\u001b[0m\u001b[0m\n\u001b[1;32m     13\u001b[0m         \u001b[0;31m#issues.extend(get_issues(org, repo))\u001b[0m\u001b[0;34m\u001b[0m\u001b[0;34m\u001b[0m\u001b[0m\n\u001b[0;32m---> 14\u001b[0;31m         \u001b[0missue_comments\u001b[0m\u001b[0;34m.\u001b[0m\u001b[0mextend\u001b[0m\u001b[0;34m(\u001b[0m\u001b[0mget_issue_comments\u001b[0m\u001b[0;34m(\u001b[0m\u001b[0morg\u001b[0m\u001b[0;34m,\u001b[0m \u001b[0mrepo\u001b[0m\u001b[0;34m)\u001b[0m\u001b[0;34m)\u001b[0m\u001b[0;34m\u001b[0m\u001b[0m\n\u001b[0m\u001b[1;32m     15\u001b[0m \u001b[0;34m\u001b[0m\u001b[0m\n",
      "\u001b[0;32m<ipython-input-84-4fdcfde346c2>\u001b[0m in \u001b[0;36mget_issue_comments\u001b[0;34m(org, repo)\u001b[0m\n\u001b[1;32m      6\u001b[0m         \u001b[0;32mif\u001b[0m \u001b[0missue\u001b[0m\u001b[0;34m.\u001b[0m\u001b[0mcreated_at\u001b[0m \u001b[0;34m<\u001b[0m \u001b[0mcutoff\u001b[0m\u001b[0;34m:\u001b[0m\u001b[0;34m\u001b[0m\u001b[0m\n\u001b[1;32m      7\u001b[0m             \u001b[0;32mcontinue\u001b[0m\u001b[0;34m\u001b[0m\u001b[0m\n\u001b[0;32m----> 8\u001b[0;31m         \u001b[0;32mfor\u001b[0m \u001b[0mcomment\u001b[0m \u001b[0;32min\u001b[0m \u001b[0missue\u001b[0m\u001b[0;34m.\u001b[0m\u001b[0mget_comments\u001b[0m\u001b[0;34m(\u001b[0m\u001b[0;34m)\u001b[0m\u001b[0;34m:\u001b[0m\u001b[0;34m\u001b[0m\u001b[0m\n\u001b[0m\u001b[1;32m      9\u001b[0m \u001b[0;34m\u001b[0m\u001b[0m\n\u001b[1;32m     10\u001b[0m             comments.append({\n",
      "\u001b[0;32m/Users/jamiew/anaconda/lib/python2.7/site-packages/github/PaginatedList.pyc\u001b[0m in \u001b[0;36m__iter__\u001b[0;34m(self)\u001b[0m\n\u001b[1;32m     46\u001b[0m             \u001b[0;32myield\u001b[0m \u001b[0melement\u001b[0m\u001b[0;34m\u001b[0m\u001b[0m\n\u001b[1;32m     47\u001b[0m         \u001b[0;32mwhile\u001b[0m \u001b[0mself\u001b[0m\u001b[0;34m.\u001b[0m\u001b[0m_couldGrow\u001b[0m\u001b[0;34m(\u001b[0m\u001b[0;34m)\u001b[0m\u001b[0;34m:\u001b[0m\u001b[0;34m\u001b[0m\u001b[0m\n\u001b[0;32m---> 48\u001b[0;31m             \u001b[0mnewElements\u001b[0m \u001b[0;34m=\u001b[0m \u001b[0mself\u001b[0m\u001b[0;34m.\u001b[0m\u001b[0m_grow\u001b[0m\u001b[0;34m(\u001b[0m\u001b[0;34m)\u001b[0m\u001b[0;34m\u001b[0m\u001b[0m\n\u001b[0m\u001b[1;32m     49\u001b[0m             \u001b[0;32mfor\u001b[0m \u001b[0melement\u001b[0m \u001b[0;32min\u001b[0m \u001b[0mnewElements\u001b[0m\u001b[0;34m:\u001b[0m\u001b[0;34m\u001b[0m\u001b[0m\n\u001b[1;32m     50\u001b[0m                 \u001b[0;32myield\u001b[0m \u001b[0melement\u001b[0m\u001b[0;34m\u001b[0m\u001b[0m\n",
      "\u001b[0;32m/Users/jamiew/anaconda/lib/python2.7/site-packages/github/PaginatedList.pyc\u001b[0m in \u001b[0;36m_grow\u001b[0;34m(self)\u001b[0m\n\u001b[1;32m     58\u001b[0m \u001b[0;34m\u001b[0m\u001b[0m\n\u001b[1;32m     59\u001b[0m     \u001b[0;32mdef\u001b[0m \u001b[0m_grow\u001b[0m\u001b[0;34m(\u001b[0m\u001b[0mself\u001b[0m\u001b[0;34m)\u001b[0m\u001b[0;34m:\u001b[0m\u001b[0;34m\u001b[0m\u001b[0m\n\u001b[0;32m---> 60\u001b[0;31m         \u001b[0mnewElements\u001b[0m \u001b[0;34m=\u001b[0m \u001b[0mself\u001b[0m\u001b[0;34m.\u001b[0m\u001b[0m_fetchNextPage\u001b[0m\u001b[0;34m(\u001b[0m\u001b[0;34m)\u001b[0m\u001b[0;34m\u001b[0m\u001b[0m\n\u001b[0m\u001b[1;32m     61\u001b[0m         \u001b[0mself\u001b[0m\u001b[0;34m.\u001b[0m\u001b[0m__elements\u001b[0m \u001b[0;34m+=\u001b[0m \u001b[0mnewElements\u001b[0m\u001b[0;34m\u001b[0m\u001b[0m\n\u001b[1;32m     62\u001b[0m         \u001b[0;32mreturn\u001b[0m \u001b[0mnewElements\u001b[0m\u001b[0;34m\u001b[0m\u001b[0m\n",
      "\u001b[0;32m/Users/jamiew/anaconda/lib/python2.7/site-packages/github/PaginatedList.pyc\u001b[0m in \u001b[0;36m_fetchNextPage\u001b[0;34m(self)\u001b[0m\n\u001b[1;32m    159\u001b[0m             \u001b[0mself\u001b[0m\u001b[0;34m.\u001b[0m\u001b[0m__nextUrl\u001b[0m\u001b[0;34m,\u001b[0m\u001b[0;34m\u001b[0m\u001b[0m\n\u001b[1;32m    160\u001b[0m             \u001b[0mparameters\u001b[0m\u001b[0;34m=\u001b[0m\u001b[0mself\u001b[0m\u001b[0;34m.\u001b[0m\u001b[0m__nextParams\u001b[0m\u001b[0;34m,\u001b[0m\u001b[0;34m\u001b[0m\u001b[0m\n\u001b[0;32m--> 161\u001b[0;31m             \u001b[0mheaders\u001b[0m\u001b[0;34m=\u001b[0m\u001b[0mself\u001b[0m\u001b[0;34m.\u001b[0m\u001b[0m__headers\u001b[0m\u001b[0;34m\u001b[0m\u001b[0m\n\u001b[0m\u001b[1;32m    162\u001b[0m         )\n\u001b[1;32m    163\u001b[0m         \u001b[0mdata\u001b[0m \u001b[0;34m=\u001b[0m \u001b[0mdata\u001b[0m \u001b[0;32mif\u001b[0m \u001b[0mdata\u001b[0m \u001b[0;32melse\u001b[0m \u001b[0;34m[\u001b[0m\u001b[0;34m]\u001b[0m\u001b[0;34m\u001b[0m\u001b[0m\n",
      "\u001b[0;32m/Users/jamiew/anaconda/lib/python2.7/site-packages/github/Requester.pyc\u001b[0m in \u001b[0;36mrequestJsonAndCheck\u001b[0;34m(self, verb, url, parameters, headers, input, cnx)\u001b[0m\n\u001b[1;32m    169\u001b[0m \u001b[0;34m\u001b[0m\u001b[0m\n\u001b[1;32m    170\u001b[0m     \u001b[0;32mdef\u001b[0m \u001b[0mrequestJsonAndCheck\u001b[0m\u001b[0;34m(\u001b[0m\u001b[0mself\u001b[0m\u001b[0;34m,\u001b[0m \u001b[0mverb\u001b[0m\u001b[0;34m,\u001b[0m \u001b[0murl\u001b[0m\u001b[0;34m,\u001b[0m \u001b[0mparameters\u001b[0m\u001b[0;34m=\u001b[0m\u001b[0mNone\u001b[0m\u001b[0;34m,\u001b[0m \u001b[0mheaders\u001b[0m\u001b[0;34m=\u001b[0m\u001b[0mNone\u001b[0m\u001b[0;34m,\u001b[0m \u001b[0minput\u001b[0m\u001b[0;34m=\u001b[0m\u001b[0mNone\u001b[0m\u001b[0;34m,\u001b[0m \u001b[0mcnx\u001b[0m\u001b[0;34m=\u001b[0m\u001b[0mNone\u001b[0m\u001b[0;34m)\u001b[0m\u001b[0;34m:\u001b[0m\u001b[0;34m\u001b[0m\u001b[0m\n\u001b[0;32m--> 171\u001b[0;31m         \u001b[0;32mreturn\u001b[0m \u001b[0mself\u001b[0m\u001b[0;34m.\u001b[0m\u001b[0m__check\u001b[0m\u001b[0;34m(\u001b[0m\u001b[0;34m*\u001b[0m\u001b[0mself\u001b[0m\u001b[0;34m.\u001b[0m\u001b[0mrequestJson\u001b[0m\u001b[0;34m(\u001b[0m\u001b[0mverb\u001b[0m\u001b[0;34m,\u001b[0m \u001b[0murl\u001b[0m\u001b[0;34m,\u001b[0m \u001b[0mparameters\u001b[0m\u001b[0;34m,\u001b[0m \u001b[0mheaders\u001b[0m\u001b[0;34m,\u001b[0m \u001b[0minput\u001b[0m\u001b[0;34m,\u001b[0m \u001b[0mcnx\u001b[0m\u001b[0;34m)\u001b[0m\u001b[0;34m)\u001b[0m\u001b[0;34m\u001b[0m\u001b[0m\n\u001b[0m\u001b[1;32m    172\u001b[0m \u001b[0;34m\u001b[0m\u001b[0m\n\u001b[1;32m    173\u001b[0m     \u001b[0;32mdef\u001b[0m \u001b[0mrequestMultipartAndCheck\u001b[0m\u001b[0;34m(\u001b[0m\u001b[0mself\u001b[0m\u001b[0;34m,\u001b[0m \u001b[0mverb\u001b[0m\u001b[0;34m,\u001b[0m \u001b[0murl\u001b[0m\u001b[0;34m,\u001b[0m \u001b[0mparameters\u001b[0m\u001b[0;34m=\u001b[0m\u001b[0mNone\u001b[0m\u001b[0;34m,\u001b[0m \u001b[0mheaders\u001b[0m\u001b[0;34m=\u001b[0m\u001b[0mNone\u001b[0m\u001b[0;34m,\u001b[0m \u001b[0minput\u001b[0m\u001b[0;34m=\u001b[0m\u001b[0mNone\u001b[0m\u001b[0;34m)\u001b[0m\u001b[0;34m:\u001b[0m\u001b[0;34m\u001b[0m\u001b[0m\n",
      "\u001b[0;32m/Users/jamiew/anaconda/lib/python2.7/site-packages/github/Requester.pyc\u001b[0m in \u001b[0;36m__check\u001b[0;34m(self, status, responseHeaders, output)\u001b[0m\n\u001b[1;32m    177\u001b[0m         \u001b[0moutput\u001b[0m \u001b[0;34m=\u001b[0m \u001b[0mself\u001b[0m\u001b[0;34m.\u001b[0m\u001b[0m__structuredFromJson\u001b[0m\u001b[0;34m(\u001b[0m\u001b[0moutput\u001b[0m\u001b[0;34m)\u001b[0m\u001b[0;34m\u001b[0m\u001b[0m\n\u001b[1;32m    178\u001b[0m         \u001b[0;32mif\u001b[0m \u001b[0mstatus\u001b[0m \u001b[0;34m>=\u001b[0m \u001b[0;36m400\u001b[0m\u001b[0;34m:\u001b[0m\u001b[0;34m\u001b[0m\u001b[0m\n\u001b[0;32m--> 179\u001b[0;31m             \u001b[0;32mraise\u001b[0m \u001b[0mself\u001b[0m\u001b[0;34m.\u001b[0m\u001b[0m__createException\u001b[0m\u001b[0;34m(\u001b[0m\u001b[0mstatus\u001b[0m\u001b[0;34m,\u001b[0m \u001b[0mresponseHeaders\u001b[0m\u001b[0;34m,\u001b[0m \u001b[0moutput\u001b[0m\u001b[0;34m)\u001b[0m\u001b[0;34m\u001b[0m\u001b[0m\n\u001b[0m\u001b[1;32m    180\u001b[0m         \u001b[0;32mreturn\u001b[0m \u001b[0mresponseHeaders\u001b[0m\u001b[0;34m,\u001b[0m \u001b[0moutput\u001b[0m\u001b[0;34m\u001b[0m\u001b[0m\n\u001b[1;32m    181\u001b[0m \u001b[0;34m\u001b[0m\u001b[0m\n",
      "\u001b[0;31mGithubException\u001b[0m: 403 {u'documentation_url': u'https://developer.github.com/v3/#rate-limiting', u'message': u'API rate limit exceeded for JamiesHQ.'}"
     ]
    }
   ],
   "source": [
    "#prs = []\n",
    "#pr_comments = []\n",
    "issues = []\n",
    "issue_comments = []\n",
    "\n",
    "test_orgs = [\"jupyter-resources\"]\n",
    "real_orgs = [\"jupyterlab\", \"jupyterhub\", \"jupyter-widgets\", \"jupyter-incubator\"]\n",
    "for org_name in real_orgs:\n",
    "    org = g.get_organization(org_name)\n",
    "    for repo in org.get_repos():\n",
    "        #prs.extend(get_prs(org, repo))\n",
    "        #pr_comments.extend(get_pr_comments(org, repo))\n",
    "        #issues.extend(get_issues(org, repo))\n",
    "        issue_comments.extend(get_issue_comments(org, repo))\n",
    "        "
   ]
  },
  {
   "cell_type": "code",
   "execution_count": 75,
   "metadata": {
    "collapsed": false
   },
   "outputs": [],
   "source": [
    "issue_comments = pd.DataFrame(issue_comments).set_index(['org', 'repo', 'number', 'issue_date','comment_creation_date', 'comments']).sortlevel()"
   ]
  },
  {
   "cell_type": "code",
   "execution_count": 76,
   "metadata": {
    "collapsed": false
   },
   "outputs": [],
   "source": [
    "issue_comments.to_csv(\"issue_comments.csv\", encoding=\"utf-8\")"
   ]
  },
  {
   "cell_type": "markdown",
   "metadata": {},
   "source": [
    "Notes\n",
    "http://stackoverflow.com/questions/16923281/pandas-writing-dataframe-to-csv-file\n",
    "https://developer.github.com/v3/issues/#get-a-single-issue\n",
    "https://developer.github.com/early-access/graphql/object/issuecomment/\n",
    "https://developer.github.com/v3/issues/comments/#list-comments-on-an-issue\n",
    "http://pygithub.readthedocs.io/en/latest/introduction.html\n",
    "\n",
    "Stuart's\n",
    "https://github.com/staeiou/github-analytics/blob/master/github-organizations-intro.ipynb\n",
    "https://github.com/getorg/getorg/blob/master/examples/orgevents/issues.ipynb\n",
    "\n",
    "Jessica's\n"
   ]
  },
  {
   "cell_type": "markdown",
   "metadata": {},
   "source": [
    "##### Converting an epoch timestamp to datetime after querying for ratelimit reset time\n",
    "I hit my GitHub ratelimit after reading through the first organization listed (Jupyter). I used the below curl command to learn my ratelimit reset time, which was about an hour after receiving the timeout.\n",
    "\n",
    "`curl -i https://api.github.com/users/username`  \n",
    "HTTP/1.1 200 OK  \n",
    "Date: Mon, 01 Jul 2013 17:27:06 GMT  \n",
    "Status: 200 OK  \n",
    "X-RateLimit-Limit: 60  \n",
    "X-RateLimit-Remaining: 56  \n",
    "X-RateLimit-Reset: 1372700873  \n",
    "\n",
    "Sources:\n",
    "https://developer.github.com/v3/#rate-limiting\n",
    "http://stackoverflow.com/questions/12400256/python-converting-epoch-time-into-the-datetime"
   ]
  },
  {
   "cell_type": "code",
   "execution_count": 79,
   "metadata": {
    "collapsed": false
   },
   "outputs": [
    {
     "data": {
      "text/plain": [
       "'Sun Apr  2 22:11:54 2017'"
      ]
     },
     "execution_count": 79,
     "metadata": {},
     "output_type": "execute_result"
    }
   ],
   "source": [
    "import datetime\n",
    "datetime.datetime.fromtimestamp(1491196314).strftime('%c')"
   ]
  },
  {
   "cell_type": "code",
   "execution_count": null,
   "metadata": {
    "collapsed": true
   },
   "outputs": [],
   "source": []
  },
  {
   "cell_type": "code",
   "execution_count": 6,
   "metadata": {
    "collapsed": false
   },
   "outputs": [
    {
     "name": "stdout",
     "output_type": "stream",
     "text": [
      "Getting PRs for jupyter/nbviewer\n",
      "Getting PR comments for jupyter/nbviewer\n",
      "Getting issues for jupyter/nbviewer\n",
      "Getting issue comments for jupyter/nbviewer\n",
      "Getting PRs for jupyter/nbconvert-examples\n",
      "Getting PR comments for jupyter/nbconvert-examples\n",
      "Getting issues for jupyter/nbconvert-examples\n",
      "Getting issue comments for jupyter/nbconvert-examples\n",
      "Getting PRs for jupyter/colaboratory\n",
      "Getting PR comments for jupyter/colaboratory\n",
      "Getting issues for jupyter/colaboratory\n",
      "Getting issue comments for jupyter/colaboratory\n",
      "Getting PRs for jupyter/colaboratory.jupyter.org\n",
      "Getting PR comments for jupyter/colaboratory.jupyter.org\n",
      "Getting issues for jupyter/colaboratory.jupyter.org\n",
      "Getting issue comments for jupyter/colaboratory.jupyter.org\n",
      "Getting PRs for jupyter/jupyter.github.io\n",
      "Getting PR comments for jupyter/jupyter.github.io\n",
      "Getting issues for jupyter/jupyter.github.io\n",
      "Getting issue comments for jupyter/jupyter.github.io\n",
      "Getting PRs for jupyter/design\n",
      "Getting PR comments for jupyter/design\n",
      "Getting issues for jupyter/design\n",
      "Getting issue comments for jupyter/design\n",
      "Getting PRs for jupyter/nbcache\n",
      "Getting PR comments for jupyter/nbcache\n",
      "Getting issues for jupyter/nbcache\n",
      "Getting issue comments for jupyter/nbcache\n",
      "Getting PRs for jupyter/nbviewer-deploy\n",
      "Getting PR comments for jupyter/nbviewer-deploy\n",
      "Getting issues for jupyter/nbviewer-deploy\n",
      "Getting issue comments for jupyter/nbviewer-deploy\n",
      "Getting PRs for jupyter/nbgrader\n",
      "Getting PR comments for jupyter/nbgrader\n",
      "Getting issues for jupyter/nbgrader\n",
      "Getting issue comments for jupyter/nbgrader\n",
      "Getting PRs for jupyter/tmpnb\n",
      "Getting PR comments for jupyter/tmpnb\n",
      "Getting issues for jupyter/tmpnb\n",
      "Getting issue comments for jupyter/tmpnb\n",
      "Getting PRs for jupyter/notebook-load-tester\n",
      "Getting PR comments for jupyter/notebook-load-tester\n",
      "Getting issues for jupyter/notebook-load-tester\n",
      "Getting issue comments for jupyter/notebook-load-tester\n",
      "Getting PRs for jupyter/nature-demo\n",
      "Getting PR comments for jupyter/nature-demo\n",
      "Getting issues for jupyter/nature-demo\n",
      "Getting issue comments for jupyter/nature-demo\n",
      "Getting PRs for jupyter/jupyter-drive\n",
      "Getting PR comments for jupyter/jupyter-drive\n",
      "Getting issues for jupyter/jupyter-drive\n",
      "Getting issue comments for jupyter/jupyter-drive\n",
      "Getting PRs for jupyter/tmpnb-redirector\n",
      "Getting PR comments for jupyter/tmpnb-redirector\n",
      "Getting issues for jupyter/tmpnb-redirector\n",
      "Getting issue comments for jupyter/tmpnb-redirector\n",
      "Getting PRs for jupyter/tmpnb-deploy\n",
      "Getting PR comments for jupyter/tmpnb-deploy\n",
      "Getting issues for jupyter/tmpnb-deploy\n",
      "Getting issue comments for jupyter/tmpnb-deploy\n",
      "Getting PRs for jupyter/docker-demo-images\n",
      "Getting PR comments for jupyter/docker-demo-images\n",
      "Getting issues for jupyter/docker-demo-images\n",
      "Getting issue comments for jupyter/docker-demo-images\n",
      "Getting PRs for jupyter/drive-to-jupyter\n",
      "Getting PR comments for jupyter/drive-to-jupyter\n",
      "Getting issues for jupyter/drive-to-jupyter\n",
      "Getting issue comments for jupyter/drive-to-jupyter\n",
      "Getting PRs for jupyter/try.jupyter.org\n",
      "Getting PR comments for jupyter/try.jupyter.org\n",
      "Getting issues for jupyter/try.jupyter.org\n",
      "Getting issue comments for jupyter/try.jupyter.org\n",
      "Getting PRs for jupyter/strata-sv-2015-tutorial\n",
      "Getting PR comments for jupyter/strata-sv-2015-tutorial\n",
      "Getting issues for jupyter/strata-sv-2015-tutorial\n",
      "Getting issue comments for jupyter/strata-sv-2015-tutorial\n",
      "Getting PRs for jupyter/testpath\n",
      "Getting PR comments for jupyter/testpath\n",
      "Getting issues for jupyter/testpath\n",
      "Getting issue comments for jupyter/testpath\n",
      "Getting PRs for jupyter/scipy-2015-advanced-topics\n",
      "Getting PR comments for jupyter/scipy-2015-advanced-topics\n",
      "Getting issues for jupyter/scipy-2015-advanced-topics\n",
      "Getting issue comments for jupyter/scipy-2015-advanced-topics\n",
      "Getting PRs for jupyter/jupyter_core\n",
      "Getting PR comments for jupyter/jupyter_core\n",
      "Getting issues for jupyter/jupyter_core\n",
      "Getting issue comments for jupyter/jupyter_core\n",
      "Getting PRs for jupyter/nbformat\n",
      "Getting PR comments for jupyter/nbformat\n",
      "Getting issues for jupyter/nbformat\n",
      "Getting issue comments for jupyter/nbformat\n",
      "Getting PRs for jupyter/jupyter_client\n",
      "Getting PR comments for jupyter/jupyter_client\n",
      "Getting issues for jupyter/jupyter_client\n",
      "Getting issue comments for jupyter/jupyter_client\n",
      "Getting PRs for jupyter/notebook\n"
     ]
    },
    {
     "ename": "GithubException",
     "evalue": "403 {u'documentation_url': u'https://developer.github.com/v3/#rate-limiting', u'message': u'API rate limit exceeded for JamiesHQ.'}",
     "output_type": "error",
     "traceback": [
      "\u001b[0;31m---------------------------------------------------------------------------\u001b[0m",
      "\u001b[0;31mGithubException\u001b[0m                           Traceback (most recent call last)",
      "\u001b[0;32m<ipython-input-6-818a3c517878>\u001b[0m in \u001b[0;36m<module>\u001b[0;34m()\u001b[0m\n\u001b[1;32m      7\u001b[0m     \u001b[0morg\u001b[0m \u001b[0;34m=\u001b[0m \u001b[0mg\u001b[0m\u001b[0;34m.\u001b[0m\u001b[0mget_organization\u001b[0m\u001b[0;34m(\u001b[0m\u001b[0morg_name\u001b[0m\u001b[0;34m)\u001b[0m\u001b[0;34m\u001b[0m\u001b[0m\n\u001b[1;32m      8\u001b[0m     \u001b[0;32mfor\u001b[0m \u001b[0mrepo\u001b[0m \u001b[0;32min\u001b[0m \u001b[0morg\u001b[0m\u001b[0;34m.\u001b[0m\u001b[0mget_repos\u001b[0m\u001b[0;34m(\u001b[0m\u001b[0;34m)\u001b[0m\u001b[0;34m:\u001b[0m\u001b[0;34m\u001b[0m\u001b[0m\n\u001b[0;32m----> 9\u001b[0;31m         \u001b[0mprs\u001b[0m\u001b[0;34m.\u001b[0m\u001b[0mextend\u001b[0m\u001b[0;34m(\u001b[0m\u001b[0mget_prs\u001b[0m\u001b[0;34m(\u001b[0m\u001b[0morg\u001b[0m\u001b[0;34m,\u001b[0m \u001b[0mrepo\u001b[0m\u001b[0;34m)\u001b[0m\u001b[0;34m)\u001b[0m\u001b[0;34m\u001b[0m\u001b[0m\n\u001b[0m\u001b[1;32m     10\u001b[0m         \u001b[0mpr_comments\u001b[0m\u001b[0;34m.\u001b[0m\u001b[0mextend\u001b[0m\u001b[0;34m(\u001b[0m\u001b[0mget_pr_comments\u001b[0m\u001b[0;34m(\u001b[0m\u001b[0morg\u001b[0m\u001b[0;34m,\u001b[0m \u001b[0mrepo\u001b[0m\u001b[0;34m)\u001b[0m\u001b[0;34m)\u001b[0m\u001b[0;34m\u001b[0m\u001b[0m\n\u001b[1;32m     11\u001b[0m         \u001b[0missues\u001b[0m\u001b[0;34m.\u001b[0m\u001b[0mextend\u001b[0m\u001b[0;34m(\u001b[0m\u001b[0mget_issues\u001b[0m\u001b[0;34m(\u001b[0m\u001b[0morg\u001b[0m\u001b[0;34m,\u001b[0m \u001b[0mrepo\u001b[0m\u001b[0;34m)\u001b[0m\u001b[0;34m)\u001b[0m\u001b[0;34m\u001b[0m\u001b[0m\n",
      "\u001b[0;32m<ipython-input-2-4ca6f418aaa4>\u001b[0m in \u001b[0;36mget_prs\u001b[0;34m(org, repo)\u001b[0m\n\u001b[1;32m      2\u001b[0m     \u001b[0mprs\u001b[0m \u001b[0;34m=\u001b[0m \u001b[0;34m[\u001b[0m\u001b[0;34m]\u001b[0m\u001b[0;34m\u001b[0m\u001b[0m\n\u001b[1;32m      3\u001b[0m     \u001b[0;32mprint\u001b[0m\u001b[0;34m(\u001b[0m\u001b[0;34m\"Getting PRs for {}/{}\"\u001b[0m\u001b[0;34m.\u001b[0m\u001b[0mformat\u001b[0m\u001b[0;34m(\u001b[0m\u001b[0morg\u001b[0m\u001b[0;34m.\u001b[0m\u001b[0mlogin\u001b[0m\u001b[0;34m,\u001b[0m \u001b[0mrepo\u001b[0m\u001b[0;34m.\u001b[0m\u001b[0mname\u001b[0m\u001b[0;34m)\u001b[0m\u001b[0;34m)\u001b[0m\u001b[0;34m\u001b[0m\u001b[0m\n\u001b[0;32m----> 4\u001b[0;31m     \u001b[0;32mfor\u001b[0m \u001b[0mpr\u001b[0m \u001b[0;32min\u001b[0m \u001b[0mrepo\u001b[0m\u001b[0;34m.\u001b[0m\u001b[0mget_pulls\u001b[0m\u001b[0;34m(\u001b[0m\u001b[0mstate\u001b[0m\u001b[0;34m=\u001b[0m\u001b[0;34m\"all\"\u001b[0m\u001b[0;34m)\u001b[0m\u001b[0;34m:\u001b[0m\u001b[0;34m\u001b[0m\u001b[0m\n\u001b[0m\u001b[1;32m      5\u001b[0m         \u001b[0;32mif\u001b[0m \u001b[0mpr\u001b[0m\u001b[0;34m.\u001b[0m\u001b[0mcreated_at\u001b[0m \u001b[0;34m<\u001b[0m \u001b[0mcutoff\u001b[0m\u001b[0;34m:\u001b[0m\u001b[0;34m\u001b[0m\u001b[0m\n\u001b[1;32m      6\u001b[0m             \u001b[0;32mcontinue\u001b[0m\u001b[0;34m\u001b[0m\u001b[0m\n",
      "\u001b[0;32m/Users/jamiew/anaconda/lib/python2.7/site-packages/github/PaginatedList.pyc\u001b[0m in \u001b[0;36m__iter__\u001b[0;34m(self)\u001b[0m\n\u001b[1;32m     46\u001b[0m             \u001b[0;32myield\u001b[0m \u001b[0melement\u001b[0m\u001b[0;34m\u001b[0m\u001b[0m\n\u001b[1;32m     47\u001b[0m         \u001b[0;32mwhile\u001b[0m \u001b[0mself\u001b[0m\u001b[0;34m.\u001b[0m\u001b[0m_couldGrow\u001b[0m\u001b[0;34m(\u001b[0m\u001b[0;34m)\u001b[0m\u001b[0;34m:\u001b[0m\u001b[0;34m\u001b[0m\u001b[0m\n\u001b[0;32m---> 48\u001b[0;31m             \u001b[0mnewElements\u001b[0m \u001b[0;34m=\u001b[0m \u001b[0mself\u001b[0m\u001b[0;34m.\u001b[0m\u001b[0m_grow\u001b[0m\u001b[0;34m(\u001b[0m\u001b[0;34m)\u001b[0m\u001b[0;34m\u001b[0m\u001b[0m\n\u001b[0m\u001b[1;32m     49\u001b[0m             \u001b[0;32mfor\u001b[0m \u001b[0melement\u001b[0m \u001b[0;32min\u001b[0m \u001b[0mnewElements\u001b[0m\u001b[0;34m:\u001b[0m\u001b[0;34m\u001b[0m\u001b[0m\n\u001b[1;32m     50\u001b[0m                 \u001b[0;32myield\u001b[0m \u001b[0melement\u001b[0m\u001b[0;34m\u001b[0m\u001b[0m\n",
      "\u001b[0;32m/Users/jamiew/anaconda/lib/python2.7/site-packages/github/PaginatedList.pyc\u001b[0m in \u001b[0;36m_grow\u001b[0;34m(self)\u001b[0m\n\u001b[1;32m     58\u001b[0m \u001b[0;34m\u001b[0m\u001b[0m\n\u001b[1;32m     59\u001b[0m     \u001b[0;32mdef\u001b[0m \u001b[0m_grow\u001b[0m\u001b[0;34m(\u001b[0m\u001b[0mself\u001b[0m\u001b[0;34m)\u001b[0m\u001b[0;34m:\u001b[0m\u001b[0;34m\u001b[0m\u001b[0m\n\u001b[0;32m---> 60\u001b[0;31m         \u001b[0mnewElements\u001b[0m \u001b[0;34m=\u001b[0m \u001b[0mself\u001b[0m\u001b[0;34m.\u001b[0m\u001b[0m_fetchNextPage\u001b[0m\u001b[0;34m(\u001b[0m\u001b[0;34m)\u001b[0m\u001b[0;34m\u001b[0m\u001b[0m\n\u001b[0m\u001b[1;32m     61\u001b[0m         \u001b[0mself\u001b[0m\u001b[0;34m.\u001b[0m\u001b[0m__elements\u001b[0m \u001b[0;34m+=\u001b[0m \u001b[0mnewElements\u001b[0m\u001b[0;34m\u001b[0m\u001b[0m\n\u001b[1;32m     62\u001b[0m         \u001b[0;32mreturn\u001b[0m \u001b[0mnewElements\u001b[0m\u001b[0;34m\u001b[0m\u001b[0m\n",
      "\u001b[0;32m/Users/jamiew/anaconda/lib/python2.7/site-packages/github/PaginatedList.pyc\u001b[0m in \u001b[0;36m_fetchNextPage\u001b[0;34m(self)\u001b[0m\n\u001b[1;32m    159\u001b[0m             \u001b[0mself\u001b[0m\u001b[0;34m.\u001b[0m\u001b[0m__nextUrl\u001b[0m\u001b[0;34m,\u001b[0m\u001b[0;34m\u001b[0m\u001b[0m\n\u001b[1;32m    160\u001b[0m             \u001b[0mparameters\u001b[0m\u001b[0;34m=\u001b[0m\u001b[0mself\u001b[0m\u001b[0;34m.\u001b[0m\u001b[0m__nextParams\u001b[0m\u001b[0;34m,\u001b[0m\u001b[0;34m\u001b[0m\u001b[0m\n\u001b[0;32m--> 161\u001b[0;31m             \u001b[0mheaders\u001b[0m\u001b[0;34m=\u001b[0m\u001b[0mself\u001b[0m\u001b[0;34m.\u001b[0m\u001b[0m__headers\u001b[0m\u001b[0;34m\u001b[0m\u001b[0m\n\u001b[0m\u001b[1;32m    162\u001b[0m         )\n\u001b[1;32m    163\u001b[0m         \u001b[0mdata\u001b[0m \u001b[0;34m=\u001b[0m \u001b[0mdata\u001b[0m \u001b[0;32mif\u001b[0m \u001b[0mdata\u001b[0m \u001b[0;32melse\u001b[0m \u001b[0;34m[\u001b[0m\u001b[0;34m]\u001b[0m\u001b[0;34m\u001b[0m\u001b[0m\n",
      "\u001b[0;32m/Users/jamiew/anaconda/lib/python2.7/site-packages/github/Requester.pyc\u001b[0m in \u001b[0;36mrequestJsonAndCheck\u001b[0;34m(self, verb, url, parameters, headers, input, cnx)\u001b[0m\n\u001b[1;32m    169\u001b[0m \u001b[0;34m\u001b[0m\u001b[0m\n\u001b[1;32m    170\u001b[0m     \u001b[0;32mdef\u001b[0m \u001b[0mrequestJsonAndCheck\u001b[0m\u001b[0;34m(\u001b[0m\u001b[0mself\u001b[0m\u001b[0;34m,\u001b[0m \u001b[0mverb\u001b[0m\u001b[0;34m,\u001b[0m \u001b[0murl\u001b[0m\u001b[0;34m,\u001b[0m \u001b[0mparameters\u001b[0m\u001b[0;34m=\u001b[0m\u001b[0mNone\u001b[0m\u001b[0;34m,\u001b[0m \u001b[0mheaders\u001b[0m\u001b[0;34m=\u001b[0m\u001b[0mNone\u001b[0m\u001b[0;34m,\u001b[0m \u001b[0minput\u001b[0m\u001b[0;34m=\u001b[0m\u001b[0mNone\u001b[0m\u001b[0;34m,\u001b[0m \u001b[0mcnx\u001b[0m\u001b[0;34m=\u001b[0m\u001b[0mNone\u001b[0m\u001b[0;34m)\u001b[0m\u001b[0;34m:\u001b[0m\u001b[0;34m\u001b[0m\u001b[0m\n\u001b[0;32m--> 171\u001b[0;31m         \u001b[0;32mreturn\u001b[0m \u001b[0mself\u001b[0m\u001b[0;34m.\u001b[0m\u001b[0m__check\u001b[0m\u001b[0;34m(\u001b[0m\u001b[0;34m*\u001b[0m\u001b[0mself\u001b[0m\u001b[0;34m.\u001b[0m\u001b[0mrequestJson\u001b[0m\u001b[0;34m(\u001b[0m\u001b[0mverb\u001b[0m\u001b[0;34m,\u001b[0m \u001b[0murl\u001b[0m\u001b[0;34m,\u001b[0m \u001b[0mparameters\u001b[0m\u001b[0;34m,\u001b[0m \u001b[0mheaders\u001b[0m\u001b[0;34m,\u001b[0m \u001b[0minput\u001b[0m\u001b[0;34m,\u001b[0m \u001b[0mcnx\u001b[0m\u001b[0;34m)\u001b[0m\u001b[0;34m)\u001b[0m\u001b[0;34m\u001b[0m\u001b[0m\n\u001b[0m\u001b[1;32m    172\u001b[0m \u001b[0;34m\u001b[0m\u001b[0m\n\u001b[1;32m    173\u001b[0m     \u001b[0;32mdef\u001b[0m \u001b[0mrequestMultipartAndCheck\u001b[0m\u001b[0;34m(\u001b[0m\u001b[0mself\u001b[0m\u001b[0;34m,\u001b[0m \u001b[0mverb\u001b[0m\u001b[0;34m,\u001b[0m \u001b[0murl\u001b[0m\u001b[0;34m,\u001b[0m \u001b[0mparameters\u001b[0m\u001b[0;34m=\u001b[0m\u001b[0mNone\u001b[0m\u001b[0;34m,\u001b[0m \u001b[0mheaders\u001b[0m\u001b[0;34m=\u001b[0m\u001b[0mNone\u001b[0m\u001b[0;34m,\u001b[0m \u001b[0minput\u001b[0m\u001b[0;34m=\u001b[0m\u001b[0mNone\u001b[0m\u001b[0;34m)\u001b[0m\u001b[0;34m:\u001b[0m\u001b[0;34m\u001b[0m\u001b[0m\n",
      "\u001b[0;32m/Users/jamiew/anaconda/lib/python2.7/site-packages/github/Requester.pyc\u001b[0m in \u001b[0;36m__check\u001b[0;34m(self, status, responseHeaders, output)\u001b[0m\n\u001b[1;32m    177\u001b[0m         \u001b[0moutput\u001b[0m \u001b[0;34m=\u001b[0m \u001b[0mself\u001b[0m\u001b[0;34m.\u001b[0m\u001b[0m__structuredFromJson\u001b[0m\u001b[0;34m(\u001b[0m\u001b[0moutput\u001b[0m\u001b[0;34m)\u001b[0m\u001b[0;34m\u001b[0m\u001b[0m\n\u001b[1;32m    178\u001b[0m         \u001b[0;32mif\u001b[0m \u001b[0mstatus\u001b[0m \u001b[0;34m>=\u001b[0m \u001b[0;36m400\u001b[0m\u001b[0;34m:\u001b[0m\u001b[0;34m\u001b[0m\u001b[0m\n\u001b[0;32m--> 179\u001b[0;31m             \u001b[0;32mraise\u001b[0m \u001b[0mself\u001b[0m\u001b[0;34m.\u001b[0m\u001b[0m__createException\u001b[0m\u001b[0;34m(\u001b[0m\u001b[0mstatus\u001b[0m\u001b[0;34m,\u001b[0m \u001b[0mresponseHeaders\u001b[0m\u001b[0;34m,\u001b[0m \u001b[0moutput\u001b[0m\u001b[0;34m)\u001b[0m\u001b[0;34m\u001b[0m\u001b[0m\n\u001b[0m\u001b[1;32m    180\u001b[0m         \u001b[0;32mreturn\u001b[0m \u001b[0mresponseHeaders\u001b[0m\u001b[0;34m,\u001b[0m \u001b[0moutput\u001b[0m\u001b[0;34m\u001b[0m\u001b[0m\n\u001b[1;32m    181\u001b[0m \u001b[0;34m\u001b[0m\u001b[0m\n",
      "\u001b[0;31mGithubException\u001b[0m: 403 {u'documentation_url': u'https://developer.github.com/v3/#rate-limiting', u'message': u'API rate limit exceeded for JamiesHQ.'}"
     ]
    }
   ],
   "source": [
    "prs = []\n",
    "pr_comments = []\n",
    "issues = []\n",
    "issue_comments = []\n",
    "\n",
    "for org_name in [\"jupyter\", \"jupyterlab\", \"jupyterhub\", \"jupyter-widgets\", \"jupyter-incubator\"]:\n",
    "    org = g.get_organization(org_name)\n",
    "    for repo in org.get_repos():\n",
    "        prs.extend(get_prs(org, repo))\n",
    "        pr_comments.extend(get_pr_comments(org, repo))\n",
    "        issues.extend(get_issues(org, repo))\n",
    "        issue_comments.extend(get_issue_comments(org, repo))"
   ]
  },
  {
   "cell_type": "code",
   "execution_count": 7,
   "metadata": {
    "collapsed": false,
    "scrolled": false
   },
   "outputs": [],
   "source": [
    "prs = pd.DataFrame(prs).set_index(['org', 'repo', 'number']).sortlevel()\n",
    "pr_comments = pd.DataFrame(pr_comments).set_index(['org', 'repo', 'number', 'date']).sortlevel()\n",
    "issues = pd.DataFrame(issues).set_index(['org', 'repo', 'number']).sortlevel()\n",
    "issue_comments = pd.DataFrame(issue_comments).set_index(['org', 'repo', 'number', 'date']).sortlevel()"
   ]
  },
  {
   "cell_type": "code",
   "execution_count": 8,
   "metadata": {
    "collapsed": false
   },
   "outputs": [],
   "source": [
    "prs.to_csv(\"prs.csv\")\n",
    "pr_comments.to_csv(\"pr_comments.csv\")\n",
    "issues.to_csv(\"issues.csv\")\n",
    "issue_comments.to_csv(\"issue_comments.csv\")"
   ]
  },
  {
   "cell_type": "markdown",
   "metadata": {
    "collapsed": true
   },
   "source": [
    "prs = pd.read_csv(\"prs.csv\")\n",
    "pr_comments = pd.read_csv(\"pr_comments.csv\")\n",
    "issues = pd.read_csv(\"issues.csv\")\n",
    "issue_comments = pd.read_csv(\"issue_comments.csv\")"
   ]
  },
  {
   "cell_type": "code",
   "execution_count": 12,
   "metadata": {
    "collapsed": false
   },
   "outputs": [
    {
     "data": {
      "text/html": [
       "<div>\n",
       "<table border=\"1\" class=\"dataframe\">\n",
       "  <thead>\n",
       "    <tr style=\"text-align: right;\">\n",
       "      <th></th>\n",
       "      <th>org</th>\n",
       "      <th>repo</th>\n",
       "      <th>number</th>\n",
       "      <th>date</th>\n",
       "      <th>user</th>\n",
       "    </tr>\n",
       "  </thead>\n",
       "  <tbody>\n",
       "    <tr>\n",
       "      <th>0</th>\n",
       "      <td>jupyter</td>\n",
       "      <td>colaboratory</td>\n",
       "      <td>118</td>\n",
       "      <td>2015-07-15 13:09:16</td>\n",
       "      <td>wernight</td>\n",
       "    </tr>\n",
       "    <tr>\n",
       "      <th>1</th>\n",
       "      <td>jupyter</td>\n",
       "      <td>colaboratory</td>\n",
       "      <td>119</td>\n",
       "      <td>2015-07-23 06:55:39</td>\n",
       "      <td>kakitone</td>\n",
       "    </tr>\n",
       "    <tr>\n",
       "      <th>2</th>\n",
       "      <td>jupyter</td>\n",
       "      <td>colaboratory</td>\n",
       "      <td>121</td>\n",
       "      <td>2016-01-31 15:08:08</td>\n",
       "      <td>magdalenat</td>\n",
       "    </tr>\n",
       "    <tr>\n",
       "      <th>3</th>\n",
       "      <td>jupyter</td>\n",
       "      <td>colaboratory</td>\n",
       "      <td>121</td>\n",
       "      <td>2016-01-31 15:08:08</td>\n",
       "      <td>magdalenat</td>\n",
       "    </tr>\n",
       "    <tr>\n",
       "      <th>4</th>\n",
       "      <td>jupyter</td>\n",
       "      <td>colaboratory</td>\n",
       "      <td>123</td>\n",
       "      <td>2016-09-18 21:31:02</td>\n",
       "      <td>jackiekazil</td>\n",
       "    </tr>\n",
       "  </tbody>\n",
       "</table>\n",
       "</div>"
      ],
      "text/plain": [
       "       org          repo  number                 date         user\n",
       "0  jupyter  colaboratory     118  2015-07-15 13:09:16     wernight\n",
       "1  jupyter  colaboratory     119  2015-07-23 06:55:39     kakitone\n",
       "2  jupyter  colaboratory     121  2016-01-31 15:08:08   magdalenat\n",
       "3  jupyter  colaboratory     121  2016-01-31 15:08:08   magdalenat\n",
       "4  jupyter  colaboratory     123  2016-09-18 21:31:02  jackiekazil"
      ]
     },
     "execution_count": 12,
     "metadata": {},
     "output_type": "execute_result"
    }
   ],
   "source": [
    "issue_comments.head()"
   ]
  },
  {
   "cell_type": "code",
   "execution_count": null,
   "metadata": {
    "collapsed": true
   },
   "outputs": [],
   "source": [
    "prs = []\n",
    "pr_comments = []\n",
    "issues = []\n",
    "issue_comments = []\n",
    "\n",
    "for org_name in [\"jupyterlab\", \"jupyterhub\", \"jupyter-widgets\", \"jupyter-incubator\"]:\n",
    "    org = g.get_organization(org_name)\n",
    "    for repo in org.get_repos():\n",
    "        prs.extend(get_prs(org, repo))\n",
    "        pr_comments.extend(get_pr_comments(org, repo))\n",
    "        issues.extend(get_issues(org, repo))\n",
    "        issue_comments.extend(get_issue_comments(org, repo))"
   ]
  },
  {
   "cell_type": "code",
   "execution_count": null,
   "metadata": {
    "collapsed": true
   },
   "outputs": [],
   "source": [
    "prs = pd.DataFrame(prs).set_index(['org', 'repo', 'number']).sortlevel()\n",
    "pr_comments = pd.DataFrame(pr_comments).set_index(['org', 'repo', 'number', 'date']).sortlevel()\n",
    "issues = pd.DataFrame(issues).set_index(['org', 'repo', 'number']).sortlevel()\n",
    "issue_comments = pd.DataFrame(issue_comments).set_index(['org', 'repo', 'number', 'date']).sortlevel()"
   ]
  },
  {
   "cell_type": "code",
   "execution_count": null,
   "metadata": {
    "collapsed": true
   },
   "outputs": [],
   "source": [
    "prs.to_csv(\"prs2.csv\")\n",
    "pr_comments.to_csv(\"pr_comments2.csv\")\n",
    "issues.to_csv(\"issues2.csv\")\n",
    "issue_comments.to_csv(\"issue_comments2.csv\")"
   ]
  },
  {
   "cell_type": "code",
   "execution_count": null,
   "metadata": {
    "collapsed": true
   },
   "outputs": [],
   "source": [
    "prs = pd.read_csv(\"prs.csv\")\n",
    "pr_comments = pd.read_csv(\"pr_comments.csv\")\n",
    "issues = pd.read_csv(\"issues.csv\")\n",
    "issue_comments = pd.read_csv(\"issue_comments.csv\")"
   ]
  },
  {
   "cell_type": "code",
   "execution_count": null,
   "metadata": {
    "collapsed": true
   },
   "outputs": [],
   "source": []
  },
  {
   "cell_type": "code",
   "execution_count": 106,
   "metadata": {
    "collapsed": true
   },
   "outputs": [],
   "source": [
    "coreteam = set([\n",
    "    \"jasongrout\",\n",
    "    \"willingc\",\n",
    "    \"jdfreder\",\n",
    "    \"minrk\",\n",
    "    \"Carreau\",\n",
    "    \"SylvainCorlay\",\n",
    "    \"blink1073\",\n",
    "    \"bollwyvl\",\n",
    "    \"ellisonbg\",\n",
    "    \"fperez\",\n",
    "    \"jhamrick\",\n",
    "    \"parente\",\n",
    "    \"rgbkrk\",\n",
    "    \"takluyver\",\n",
    "    \"damianavila\",\n",
    "    \"Ruv7\",\n",
    "    \"sccolbert\"\n",
    "])"
   ]
  },
  {
   "cell_type": "code",
   "execution_count": 107,
   "metadata": {
    "collapsed": false
   },
   "outputs": [
    {
     "data": {
      "text/html": [
       "<div>\n",
       "<table border=\"1\" class=\"dataframe\">\n",
       "  <thead>\n",
       "    <tr style=\"text-align: right;\">\n",
       "      <th></th>\n",
       "      <th>org</th>\n",
       "      <th>repo</th>\n",
       "      <th>number</th>\n",
       "      <th>date</th>\n",
       "      <th>user</th>\n",
       "      <th>is_core</th>\n",
       "    </tr>\n",
       "  </thead>\n",
       "  <tbody>\n",
       "    <tr>\n",
       "      <th>0</th>\n",
       "      <td>ipython</td>\n",
       "      <td>docker-notebook</td>\n",
       "      <td>1</td>\n",
       "      <td>2014-07-31 14:39:57</td>\n",
       "      <td>rgbkrk</td>\n",
       "      <td>True</td>\n",
       "    </tr>\n",
       "    <tr>\n",
       "      <th>1</th>\n",
       "      <td>ipython</td>\n",
       "      <td>docker-notebook</td>\n",
       "      <td>4</td>\n",
       "      <td>2014-08-22 22:22:26</td>\n",
       "      <td>rgbkrk</td>\n",
       "      <td>True</td>\n",
       "    </tr>\n",
       "    <tr>\n",
       "      <th>2</th>\n",
       "      <td>ipython</td>\n",
       "      <td>docker-notebook</td>\n",
       "      <td>5</td>\n",
       "      <td>2014-09-06 20:51:57</td>\n",
       "      <td>rgbkrk</td>\n",
       "      <td>True</td>\n",
       "    </tr>\n",
       "    <tr>\n",
       "      <th>3</th>\n",
       "      <td>ipython</td>\n",
       "      <td>docker-notebook</td>\n",
       "      <td>6</td>\n",
       "      <td>2014-09-07 14:56:11</td>\n",
       "      <td>rgbkrk</td>\n",
       "      <td>True</td>\n",
       "    </tr>\n",
       "    <tr>\n",
       "      <th>4</th>\n",
       "      <td>ipython</td>\n",
       "      <td>docker-notebook</td>\n",
       "      <td>7</td>\n",
       "      <td>2014-12-01 17:42:11</td>\n",
       "      <td>rgbkrk</td>\n",
       "      <td>True</td>\n",
       "    </tr>\n",
       "  </tbody>\n",
       "</table>\n",
       "</div>"
      ],
      "text/plain": [
       "       org             repo  number                date    user is_core\n",
       "0  ipython  docker-notebook       1 2014-07-31 14:39:57  rgbkrk    True\n",
       "1  ipython  docker-notebook       4 2014-08-22 22:22:26  rgbkrk    True\n",
       "2  ipython  docker-notebook       5 2014-09-06 20:51:57  rgbkrk    True\n",
       "3  ipython  docker-notebook       6 2014-09-07 14:56:11  rgbkrk    True\n",
       "4  ipython  docker-notebook       7 2014-12-01 17:42:11  rgbkrk    True"
      ]
     },
     "execution_count": 107,
     "metadata": {},
     "output_type": "execute_result"
    }
   ],
   "source": [
    "df = pd.read_csv(\"jupyter_prs.csv\")\n",
    "df['is_core'] = df['user'].apply(lambda x: x in coreteam)\n",
    "df['date'] = pd.to_datetime(df['date'])\n",
    "df.head()"
   ]
  },
  {
   "cell_type": "code",
   "execution_count": 108,
   "metadata": {
    "collapsed": true
   },
   "outputs": [],
   "source": [
    "import datetime"
   ]
  },
  {
   "cell_type": "code",
   "execution_count": 109,
   "metadata": {
    "collapsed": false
   },
   "outputs": [],
   "source": [
    "cutoff = datetime.datetime(2015, 3, 30, 11, 38, 5, 291165)"
   ]
  },
  {
   "cell_type": "code",
   "execution_count": 110,
   "metadata": {
    "collapsed": false
   },
   "outputs": [],
   "source": [
    "%matplotlib inline\n",
    "import matplotlib.pyplot as plt\n",
    "import seaborn as sns"
   ]
  },
  {
   "cell_type": "code",
   "execution_count": 111,
   "metadata": {
    "collapsed": false
   },
   "outputs": [
    {
     "data": {
      "text/plain": [
       "org\n",
       "ipython              0.759167\n",
       "jupyter              0.755711\n",
       "jupyter-incubator    0.181818\n",
       "Name: is_core, dtype: float64"
      ]
     },
     "execution_count": 111,
     "metadata": {},
     "output_type": "execute_result"
    }
   ],
   "source": [
    "recent = df.ix[df['date'] > cutoff]\n",
    "is_core = recent.groupby(['org'])['is_core'].mean()\n",
    "is_core"
   ]
  },
  {
   "cell_type": "code",
   "execution_count": 113,
   "metadata": {
    "collapsed": false
   },
   "outputs": [],
   "source": [
    "counts = recent\\\n",
    "    .ix[recent['org'] != 'jupyter-incubator']\\\n",
    "    .groupby('is_core')\\\n",
    "    .get_group(False)\\\n",
    "    .groupby('user')['number']\\\n",
    "    .apply(lambda x: len(x))\\\n",
    "    .sort_values(inplace=False)[::-1]"
   ]
  },
  {
   "cell_type": "code",
   "execution_count": 119,
   "metadata": {
    "collapsed": false
   },
   "outputs": [
    {
     "data": {
      "text/plain": [
       "0.65829145728643212"
      ]
     },
     "execution_count": 119,
     "metadata": {},
     "output_type": "execute_result"
    }
   ],
   "source": [
    "(counts == 1).mean()"
   ]
  },
  {
   "cell_type": "code",
   "execution_count": 121,
   "metadata": {
    "collapsed": false
   },
   "outputs": [
    {
     "data": {
      "text/plain": [
       "(array([ 262.,   65.,    0.,   26.,    0.,   17.,    4.,    0.,    5.,\n",
       "           0.,    4.,    1.,    0.,    0.,    0.,    1.,    0.,    0.,\n",
       "           1.,    0.,    1.,    0.,    0.,    3.,    0.,    2.,    0.,\n",
       "           0.,    1.,    0.,    0.,    0.,    0.,    0.,    0.,    0.,\n",
       "           0.,    0.,    0.,    0.,    0.,    1.,    0.,    0.,    0.,\n",
       "           0.,    0.,    0.,    0.,    0.,    0.,    1.,    0.,    0.,\n",
       "           0.,    0.,    0.,    0.,    0.,    0.,    0.,    1.,    0.,\n",
       "           0.,    0.,    0.,    1.,    0.,    0.,    0.,    0.,    0.,\n",
       "           0.,    0.,    0.,    0.,    0.,    0.,    0.,    0.,    0.,\n",
       "           0.,    0.,    0.,    0.,    0.,    0.,    0.,    0.,    0.,\n",
       "           0.,    0.,    0.,    0.,    0.,    0.,    0.,    0.,    0.,    1.]),\n",
       " array([  1. ,   1.6,   2.2,   2.8,   3.4,   4. ,   4.6,   5.2,   5.8,\n",
       "          6.4,   7. ,   7.6,   8.2,   8.8,   9.4,  10. ,  10.6,  11.2,\n",
       "         11.8,  12.4,  13. ,  13.6,  14.2,  14.8,  15.4,  16. ,  16.6,\n",
       "         17.2,  17.8,  18.4,  19. ,  19.6,  20.2,  20.8,  21.4,  22. ,\n",
       "         22.6,  23.2,  23.8,  24.4,  25. ,  25.6,  26.2,  26.8,  27.4,\n",
       "         28. ,  28.6,  29.2,  29.8,  30.4,  31. ,  31.6,  32.2,  32.8,\n",
       "         33.4,  34. ,  34.6,  35.2,  35.8,  36.4,  37. ,  37.6,  38.2,\n",
       "         38.8,  39.4,  40. ,  40.6,  41.2,  41.8,  42.4,  43. ,  43.6,\n",
       "         44.2,  44.8,  45.4,  46. ,  46.6,  47.2,  47.8,  48.4,  49. ,\n",
       "         49.6,  50.2,  50.8,  51.4,  52. ,  52.6,  53.2,  53.8,  54.4,\n",
       "         55. ,  55.6,  56.2,  56.8,  57.4,  58. ,  58.6,  59.2,  59.8,\n",
       "         60.4,  61. ]),\n",
       " <a list of 100 Patch objects>)"
      ]
     },
     "execution_count": 121,
     "metadata": {},
     "output_type": "execute_result"
    },
    {
     "data": {
      "image/png": "[encoded data removed]",
      "text/plain": [
       "<matplotlib.figure.Figure at 0x119867898>"
      ]
     },
     "metadata": {},
     "output_type": "display_data"
    }
   ],
   "source": [
    "plt.hist(counts, bins=100)"
   ]
  },
  {
   "cell_type": "code",
   "execution_count": 78,
   "metadata": {
    "collapsed": false
   },
   "outputs": [
    {
     "name": "stderr",
     "output_type": "stream",
     "text": [
      "/Users/jhamrick/miniconda3/lib/python3.5/site-packages/matplotlib/__init__.py:892: UserWarning: axes.color_cycle is deprecated and replaced with axes.prop_cycle; please use the latter.\n",
      "  warnings.warn(self.msg_depr % (key, alt_key))\n"
     ]
    },
    {
     "data": {
      "text/plain": [
       "<seaborn.axisgrid.FacetGrid at 0x113b1edd8>"
      ]
     },
     "execution_count": 78,
     "metadata": {},
     "output_type": "execute_result"
    },
    {
     "data": {
      "image/png": "[encoded data removed]",
      "text/plain": [
       "<matplotlib.figure.Figure at 0x113979358>"
      ]
     },
     "metadata": {},
     "output_type": "display_data"
    }
   ],
   "source": [
    "sns.factorplot('repo', 'is_core', data=df.ix[df['date'] > cutoff], kind='bar', col='org')"
   ]
  }
 ],
 "metadata": {
  "kernelspec": {
   "display_name": "Python 2",
   "language": "python",
   "name": "python2"
  },
  "language_info": {
   "codemirror_mode": {
    "name": "ipython",
    "version": 2
   },
   "file_extension": ".py",
   "mimetype": "text/x-python",
   "name": "python",
   "nbconvert_exporter": "python",
   "pygments_lexer": "ipython2",
   "version": "2.7.11"
  }
 },
 "nbformat": 4,
 "nbformat_minor": 0
}
